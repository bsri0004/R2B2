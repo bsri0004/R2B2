{
 "cells": [
  {
   "cell_type": "code",
   "execution_count": 13,
   "id": "50695903",
   "metadata": {},
   "outputs": [],
   "source": [
    "from transformers import pipeline # 30 seconds to load first time"
   ]
  },
  {
   "cell_type": "code",
   "execution_count": 5,
   "id": "5c87b575",
   "metadata": {},
   "outputs": [],
   "source": [
    "import pandas as pd"
   ]
  },
  {
   "cell_type": "markdown",
   "id": "23ec4180",
   "metadata": {},
   "source": [
    "Import your csv of reviews"
   ]
  },
  {
   "cell_type": "code",
   "execution_count": 15,
   "id": "0ed2a27a",
   "metadata": {},
   "outputs": [
    {
     "name": "stdout",
     "output_type": "stream",
     "text": [
      "(270, 5)\n"
     ]
    }
   ],
   "source": [
    "df = pd.read_csv(\"resort_reviews.csv\")\n",
    "\n",
    "print(df.shape)     # rows, columns\n"
   ]
  },
  {
   "cell_type": "code",
   "execution_count": 16,
   "id": "6db12bff",
   "metadata": {},
   "outputs": [
    {
     "name": "stdout",
     "output_type": "stream",
     "text": [
      "<class 'pandas.core.frame.DataFrame'>\n",
      "RangeIndex: 270 entries, 0 to 269\n",
      "Data columns (total 5 columns):\n",
      " #   Column          Non-Null Count  Dtype  \n",
      "---  ------          --------------  -----  \n",
      " 0   review_id       270 non-null    int64  \n",
      " 1   resort          270 non-null    object \n",
      " 2   full_day_price  270 non-null    float64\n",
      " 3   avg_rating      270 non-null    float64\n",
      " 4   review          270 non-null    object \n",
      "dtypes: float64(2), int64(1), object(2)\n",
      "memory usage: 10.7+ KB\n"
     ]
    }
   ],
   "source": [
    "df.info()"
   ]
  },
  {
   "cell_type": "code",
   "execution_count": 17,
   "id": "1d65e44c",
   "metadata": {},
   "outputs": [],
   "source": [
    "#Create new column called text_length\n",
    "df['text_length'] = df['review'].apply(len)"
   ]
  },
  {
   "cell_type": "code",
   "execution_count": 18,
   "id": "4adff97a",
   "metadata": {},
   "outputs": [
    {
     "data": {
      "text/html": [
       "<div>\n",
       "<style scoped>\n",
       "    .dataframe tbody tr th:only-of-type {\n",
       "        vertical-align: middle;\n",
       "    }\n",
       "\n",
       "    .dataframe tbody tr th {\n",
       "        vertical-align: top;\n",
       "    }\n",
       "\n",
       "    .dataframe thead th {\n",
       "        text-align: right;\n",
       "    }\n",
       "</style>\n",
       "<table border=\"1\" class=\"dataframe\">\n",
       "  <thead>\n",
       "    <tr style=\"text-align: right;\">\n",
       "      <th></th>\n",
       "      <th>review_id</th>\n",
       "      <th>full_day_price</th>\n",
       "      <th>avg_rating</th>\n",
       "      <th>text_length</th>\n",
       "    </tr>\n",
       "  </thead>\n",
       "  <tbody>\n",
       "    <tr>\n",
       "      <th>count</th>\n",
       "      <td>270.000000</td>\n",
       "      <td>270.000000</td>\n",
       "      <td>270.000000</td>\n",
       "      <td>270.000000</td>\n",
       "    </tr>\n",
       "    <tr>\n",
       "      <th>mean</th>\n",
       "      <td>135.500000</td>\n",
       "      <td>115.342593</td>\n",
       "      <td>4.242593</td>\n",
       "      <td>426.070370</td>\n",
       "    </tr>\n",
       "    <tr>\n",
       "      <th>std</th>\n",
       "      <td>78.086491</td>\n",
       "      <td>61.129686</td>\n",
       "      <td>0.581819</td>\n",
       "      <td>426.651393</td>\n",
       "    </tr>\n",
       "    <tr>\n",
       "      <th>min</th>\n",
       "      <td>1.000000</td>\n",
       "      <td>67.000000</td>\n",
       "      <td>1.000000</td>\n",
       "      <td>18.000000</td>\n",
       "    </tr>\n",
       "    <tr>\n",
       "      <th>25%</th>\n",
       "      <td>68.250000</td>\n",
       "      <td>67.000000</td>\n",
       "      <td>4.000000</td>\n",
       "      <td>157.250000</td>\n",
       "    </tr>\n",
       "    <tr>\n",
       "      <th>50%</th>\n",
       "      <td>135.500000</td>\n",
       "      <td>67.000000</td>\n",
       "      <td>4.200000</td>\n",
       "      <td>291.000000</td>\n",
       "    </tr>\n",
       "    <tr>\n",
       "      <th>75%</th>\n",
       "      <td>202.750000</td>\n",
       "      <td>169.500000</td>\n",
       "      <td>4.600000</td>\n",
       "      <td>572.750000</td>\n",
       "    </tr>\n",
       "    <tr>\n",
       "      <th>max</th>\n",
       "      <td>270.000000</td>\n",
       "      <td>235.000000</td>\n",
       "      <td>5.000000</td>\n",
       "      <td>3067.000000</td>\n",
       "    </tr>\n",
       "  </tbody>\n",
       "</table>\n",
       "</div>"
      ],
      "text/plain": [
       "        review_id  full_day_price  avg_rating  text_length\n",
       "count  270.000000      270.000000  270.000000   270.000000\n",
       "mean   135.500000      115.342593    4.242593   426.070370\n",
       "std     78.086491       61.129686    0.581819   426.651393\n",
       "min      1.000000       67.000000    1.000000    18.000000\n",
       "25%     68.250000       67.000000    4.000000   157.250000\n",
       "50%    135.500000       67.000000    4.200000   291.000000\n",
       "75%    202.750000      169.500000    4.600000   572.750000\n",
       "max    270.000000      235.000000    5.000000  3067.000000"
      ]
     },
     "execution_count": 18,
     "metadata": {},
     "output_type": "execute_result"
    }
   ],
   "source": [
    "df.describe()"
   ]
  },
  {
   "cell_type": "markdown",
   "id": "c6c5105e",
   "metadata": {},
   "source": [
    "Max tensor length can be 512 when doing sentiment analysis"
   ]
  },
  {
   "cell_type": "markdown",
   "id": "acd6bf10",
   "metadata": {},
   "source": [
    "Select which model to use for sentiment analysis"
   ]
  },
  {
   "cell_type": "code",
   "execution_count": 19,
   "id": "7072fffb",
   "metadata": {},
   "outputs": [
    {
     "name": "stderr",
     "output_type": "stream",
     "text": [
      "Device set to use mps:0\n"
     ]
    }
   ],
   "source": [
    "sentiment_pipeline = pipeline(model=\"distilbert/distilbert-base-uncased-finetuned-sst-2-english\")"
   ]
  },
  {
   "cell_type": "code",
   "execution_count": 20,
   "id": "8e813a9d",
   "metadata": {},
   "outputs": [],
   "source": [
    "def add_sentiment_columns(df: pd.DataFrame, text_col: str = \"review_text\") -> pd.DataFrame:\n",
    "    \"\"\"\n",
    "    Adds sentiment 'label' and 'score' columns to a DataFrame using a HuggingFace pipeline.\n",
    "    If text_length > 512, only the first 512 characters are analyzed.\n",
    "\n",
    "    Args:\n",
    "        df (pd.DataFrame): Input DataFrame containing a column of text reviews.\n",
    "        text_col (str): Name of the column with text to analyze.\n",
    "\n",
    "    Returns:\n",
    "        pd.DataFrame: Original DataFrame with new 'label' and 'score' columns.\n",
    "    \"\"\"\n",
    "\n",
    "    def get_sentiment(text: str, length: int):\n",
    "        if length > 512:\n",
    "            text = text[:512]\n",
    "        result = sentiment_pipeline(text)[0]\n",
    "        return result[\"label\"], result[\"score\"]\n",
    "\n",
    "    df[[\"label\", \"score\"]] = df.apply(lambda row: get_sentiment(row[text_col], row[\"text_length\"]), axis=1, result_type=\"expand\")\n",
    "\n",
    "    return df\n"
   ]
  },
  {
   "cell_type": "code",
   "execution_count": 21,
   "id": "74ff4cd0",
   "metadata": {},
   "outputs": [
    {
     "data": {
      "text/html": [
       "<div>\n",
       "<style scoped>\n",
       "    .dataframe tbody tr th:only-of-type {\n",
       "        vertical-align: middle;\n",
       "    }\n",
       "\n",
       "    .dataframe tbody tr th {\n",
       "        vertical-align: top;\n",
       "    }\n",
       "\n",
       "    .dataframe thead th {\n",
       "        text-align: right;\n",
       "    }\n",
       "</style>\n",
       "<table border=\"1\" class=\"dataframe\">\n",
       "  <thead>\n",
       "    <tr style=\"text-align: right;\">\n",
       "      <th></th>\n",
       "      <th>review_id</th>\n",
       "      <th>resort</th>\n",
       "      <th>full_day_price</th>\n",
       "      <th>avg_rating</th>\n",
       "      <th>review</th>\n",
       "      <th>text_length</th>\n",
       "      <th>label</th>\n",
       "      <th>score</th>\n",
       "    </tr>\n",
       "  </thead>\n",
       "  <tbody>\n",
       "    <tr>\n",
       "      <th>0</th>\n",
       "      <td>1</td>\n",
       "      <td>Perisher Ski Resort</td>\n",
       "      <td>183.0</td>\n",
       "      <td>5.0</td>\n",
       "      <td>Highly recommended! Me and my family had a fan...</td>\n",
       "      <td>458</td>\n",
       "      <td>POSITIVE</td>\n",
       "      <td>0.999874</td>\n",
       "    </tr>\n",
       "    <tr>\n",
       "      <th>1</th>\n",
       "      <td>2</td>\n",
       "      <td>Perisher Ski Resort</td>\n",
       "      <td>183.0</td>\n",
       "      <td>5.0</td>\n",
       "      <td>Visited Perisher valley, Smiggin Holes.. Which...</td>\n",
       "      <td>339</td>\n",
       "      <td>POSITIVE</td>\n",
       "      <td>0.991743</td>\n",
       "    </tr>\n",
       "    <tr>\n",
       "      <th>2</th>\n",
       "      <td>3</td>\n",
       "      <td>Perisher Ski Resort</td>\n",
       "      <td>183.0</td>\n",
       "      <td>3.0</td>\n",
       "      <td>Perisher Valley is absolutely magical – the sn...</td>\n",
       "      <td>871</td>\n",
       "      <td>NEGATIVE</td>\n",
       "      <td>0.989859</td>\n",
       "    </tr>\n",
       "    <tr>\n",
       "      <th>3</th>\n",
       "      <td>4</td>\n",
       "      <td>Perisher Ski Resort</td>\n",
       "      <td>183.0</td>\n",
       "      <td>2.0</td>\n",
       "      <td>We do the skiing once a year during the last 9...</td>\n",
       "      <td>1478</td>\n",
       "      <td>NEGATIVE</td>\n",
       "      <td>0.998968</td>\n",
       "    </tr>\n",
       "    <tr>\n",
       "      <th>4</th>\n",
       "      <td>5</td>\n",
       "      <td>Perisher Ski Resort</td>\n",
       "      <td>183.0</td>\n",
       "      <td>4.0</td>\n",
       "      <td>I think Perisher does a good job given the con...</td>\n",
       "      <td>194</td>\n",
       "      <td>NEGATIVE</td>\n",
       "      <td>0.997874</td>\n",
       "    </tr>\n",
       "    <tr>\n",
       "      <th>...</th>\n",
       "      <td>...</td>\n",
       "      <td>...</td>\n",
       "      <td>...</td>\n",
       "      <td>...</td>\n",
       "      <td>...</td>\n",
       "      <td>...</td>\n",
       "      <td>...</td>\n",
       "      <td>...</td>\n",
       "    </tr>\n",
       "    <tr>\n",
       "      <th>265</th>\n",
       "      <td>266</td>\n",
       "      <td>Selwyn</td>\n",
       "      <td>119.0</td>\n",
       "      <td>3.9</td>\n",
       "      <td>We visited on a Monday in school holidays and ...</td>\n",
       "      <td>775</td>\n",
       "      <td>POSITIVE</td>\n",
       "      <td>0.968631</td>\n",
       "    </tr>\n",
       "    <tr>\n",
       "      <th>266</th>\n",
       "      <td>267</td>\n",
       "      <td>Selwyn</td>\n",
       "      <td>119.0</td>\n",
       "      <td>3.9</td>\n",
       "      <td>Crowd management was poor!\\n2 terminal out of ...</td>\n",
       "      <td>377</td>\n",
       "      <td>NEGATIVE</td>\n",
       "      <td>0.999516</td>\n",
       "    </tr>\n",
       "    <tr>\n",
       "      <th>267</th>\n",
       "      <td>268</td>\n",
       "      <td>Selwyn</td>\n",
       "      <td>119.0</td>\n",
       "      <td>3.9</td>\n",
       "      <td>Small but amazing. Love the \"magic carpet\" for...</td>\n",
       "      <td>203</td>\n",
       "      <td>NEGATIVE</td>\n",
       "      <td>0.962833</td>\n",
       "    </tr>\n",
       "    <tr>\n",
       "      <th>268</th>\n",
       "      <td>269</td>\n",
       "      <td>Selwyn</td>\n",
       "      <td>119.0</td>\n",
       "      <td>3.9</td>\n",
       "      <td>Love this place! Perfect spot to learn to ski ...</td>\n",
       "      <td>237</td>\n",
       "      <td>POSITIVE</td>\n",
       "      <td>0.999855</td>\n",
       "    </tr>\n",
       "    <tr>\n",
       "      <th>269</th>\n",
       "      <td>270</td>\n",
       "      <td>Selwyn</td>\n",
       "      <td>119.0</td>\n",
       "      <td>3.9</td>\n",
       "      <td>Absolutely fantastic resort for families and t...</td>\n",
       "      <td>102</td>\n",
       "      <td>POSITIVE</td>\n",
       "      <td>0.999708</td>\n",
       "    </tr>\n",
       "  </tbody>\n",
       "</table>\n",
       "<p>270 rows × 8 columns</p>\n",
       "</div>"
      ],
      "text/plain": [
       "     review_id              resort   full_day_price  avg_rating  \\\n",
       "0            1  Perisher Ski Resort           183.0         5.0   \n",
       "1            2  Perisher Ski Resort           183.0         5.0   \n",
       "2            3  Perisher Ski Resort           183.0         3.0   \n",
       "3            4  Perisher Ski Resort           183.0         2.0   \n",
       "4            5  Perisher Ski Resort           183.0         4.0   \n",
       "..         ...                  ...             ...         ...   \n",
       "265        266               Selwyn           119.0         3.9   \n",
       "266        267               Selwyn           119.0         3.9   \n",
       "267        268               Selwyn           119.0         3.9   \n",
       "268        269               Selwyn           119.0         3.9   \n",
       "269        270               Selwyn           119.0         3.9   \n",
       "\n",
       "                                                review  text_length     label  \\\n",
       "0    Highly recommended! Me and my family had a fan...          458  POSITIVE   \n",
       "1    Visited Perisher valley, Smiggin Holes.. Which...          339  POSITIVE   \n",
       "2    Perisher Valley is absolutely magical – the sn...          871  NEGATIVE   \n",
       "3    We do the skiing once a year during the last 9...         1478  NEGATIVE   \n",
       "4    I think Perisher does a good job given the con...          194  NEGATIVE   \n",
       "..                                                 ...          ...       ...   \n",
       "265  We visited on a Monday in school holidays and ...          775  POSITIVE   \n",
       "266  Crowd management was poor!\\n2 terminal out of ...          377  NEGATIVE   \n",
       "267  Small but amazing. Love the \"magic carpet\" for...          203  NEGATIVE   \n",
       "268  Love this place! Perfect spot to learn to ski ...          237  POSITIVE   \n",
       "269  Absolutely fantastic resort for families and t...          102  POSITIVE   \n",
       "\n",
       "        score  \n",
       "0    0.999874  \n",
       "1    0.991743  \n",
       "2    0.989859  \n",
       "3    0.998968  \n",
       "4    0.997874  \n",
       "..        ...  \n",
       "265  0.968631  \n",
       "266  0.999516  \n",
       "267  0.962833  \n",
       "268  0.999855  \n",
       "269  0.999708  \n",
       "\n",
       "[270 rows x 8 columns]"
      ]
     },
     "execution_count": 21,
     "metadata": {},
     "output_type": "execute_result"
    }
   ],
   "source": [
    "add_sentiment_columns(df, text_col = \"review\")"
   ]
  },
  {
   "cell_type": "code",
   "execution_count": 23,
   "id": "7881779f",
   "metadata": {},
   "outputs": [
    {
     "name": "stdout",
     "output_type": "stream",
     "text": [
      "label\n",
      "POSITIVE    196\n",
      "NEGATIVE     74\n",
      "Name: count, dtype: int64\n"
     ]
    }
   ],
   "source": [
    "# show number of each different value in 'label' column\n",
    "label_counts = df['label'].value_counts()\n",
    "\n",
    "print(label_counts)"
   ]
  },
  {
   "cell_type": "code",
   "execution_count": 25,
   "id": "8859c4fe",
   "metadata": {},
   "outputs": [
    {
     "data": {
      "text/html": [
       "<div>\n",
       "<style scoped>\n",
       "    .dataframe tbody tr th:only-of-type {\n",
       "        vertical-align: middle;\n",
       "    }\n",
       "\n",
       "    .dataframe tbody tr th {\n",
       "        vertical-align: top;\n",
       "    }\n",
       "\n",
       "    .dataframe thead th {\n",
       "        text-align: right;\n",
       "    }\n",
       "</style>\n",
       "<table border=\"1\" class=\"dataframe\">\n",
       "  <thead>\n",
       "    <tr style=\"text-align: right;\">\n",
       "      <th></th>\n",
       "      <th>review_id</th>\n",
       "      <th>full_day_price</th>\n",
       "      <th>avg_rating</th>\n",
       "      <th>text_length</th>\n",
       "      <th>score</th>\n",
       "    </tr>\n",
       "  </thead>\n",
       "  <tbody>\n",
       "    <tr>\n",
       "      <th>count</th>\n",
       "      <td>270.000000</td>\n",
       "      <td>270.000000</td>\n",
       "      <td>270.000000</td>\n",
       "      <td>270.000000</td>\n",
       "      <td>270.000000</td>\n",
       "    </tr>\n",
       "    <tr>\n",
       "      <th>mean</th>\n",
       "      <td>135.500000</td>\n",
       "      <td>115.342593</td>\n",
       "      <td>4.242593</td>\n",
       "      <td>426.070370</td>\n",
       "      <td>0.975566</td>\n",
       "    </tr>\n",
       "    <tr>\n",
       "      <th>std</th>\n",
       "      <td>78.086491</td>\n",
       "      <td>61.129686</td>\n",
       "      <td>0.581819</td>\n",
       "      <td>426.651393</td>\n",
       "      <td>0.075614</td>\n",
       "    </tr>\n",
       "    <tr>\n",
       "      <th>min</th>\n",
       "      <td>1.000000</td>\n",
       "      <td>67.000000</td>\n",
       "      <td>1.000000</td>\n",
       "      <td>18.000000</td>\n",
       "      <td>0.514583</td>\n",
       "    </tr>\n",
       "    <tr>\n",
       "      <th>25%</th>\n",
       "      <td>68.250000</td>\n",
       "      <td>67.000000</td>\n",
       "      <td>4.000000</td>\n",
       "      <td>157.250000</td>\n",
       "      <td>0.994523</td>\n",
       "    </tr>\n",
       "    <tr>\n",
       "      <th>50%</th>\n",
       "      <td>135.500000</td>\n",
       "      <td>67.000000</td>\n",
       "      <td>4.200000</td>\n",
       "      <td>291.000000</td>\n",
       "      <td>0.999452</td>\n",
       "    </tr>\n",
       "    <tr>\n",
       "      <th>75%</th>\n",
       "      <td>202.750000</td>\n",
       "      <td>169.500000</td>\n",
       "      <td>4.600000</td>\n",
       "      <td>572.750000</td>\n",
       "      <td>0.999777</td>\n",
       "    </tr>\n",
       "    <tr>\n",
       "      <th>max</th>\n",
       "      <td>270.000000</td>\n",
       "      <td>235.000000</td>\n",
       "      <td>5.000000</td>\n",
       "      <td>3067.000000</td>\n",
       "      <td>0.999887</td>\n",
       "    </tr>\n",
       "  </tbody>\n",
       "</table>\n",
       "</div>"
      ],
      "text/plain": [
       "        review_id  full_day_price  avg_rating  text_length       score\n",
       "count  270.000000      270.000000  270.000000   270.000000  270.000000\n",
       "mean   135.500000      115.342593    4.242593   426.070370    0.975566\n",
       "std     78.086491       61.129686    0.581819   426.651393    0.075614\n",
       "min      1.000000       67.000000    1.000000    18.000000    0.514583\n",
       "25%     68.250000       67.000000    4.000000   157.250000    0.994523\n",
       "50%    135.500000       67.000000    4.200000   291.000000    0.999452\n",
       "75%    202.750000      169.500000    4.600000   572.750000    0.999777\n",
       "max    270.000000      235.000000    5.000000  3067.000000    0.999887"
      ]
     },
     "execution_count": 25,
     "metadata": {},
     "output_type": "execute_result"
    }
   ],
   "source": [
    "df.describe()"
   ]
  },
  {
   "cell_type": "code",
   "execution_count": 28,
   "id": "dec60a29",
   "metadata": {},
   "outputs": [
    {
     "data": {
      "text/html": [
       "<div>\n",
       "<style scoped>\n",
       "    .dataframe tbody tr th:only-of-type {\n",
       "        vertical-align: middle;\n",
       "    }\n",
       "\n",
       "    .dataframe tbody tr th {\n",
       "        vertical-align: top;\n",
       "    }\n",
       "\n",
       "    .dataframe thead th {\n",
       "        text-align: right;\n",
       "    }\n",
       "</style>\n",
       "<table border=\"1\" class=\"dataframe\">\n",
       "  <thead>\n",
       "    <tr style=\"text-align: right;\">\n",
       "      <th></th>\n",
       "      <th>review_id</th>\n",
       "      <th>resort</th>\n",
       "      <th>full_day_price</th>\n",
       "      <th>avg_rating</th>\n",
       "      <th>review</th>\n",
       "      <th>text_length</th>\n",
       "      <th>label</th>\n",
       "      <th>score</th>\n",
       "    </tr>\n",
       "  </thead>\n",
       "  <tbody>\n",
       "    <tr>\n",
       "      <th>172</th>\n",
       "      <td>173</td>\n",
       "      <td>Mount Hotham</td>\n",
       "      <td>67.0</td>\n",
       "      <td>4.7</td>\n",
       "      <td>Exceeded my expectation. Even a month felt les...</td>\n",
       "      <td>73</td>\n",
       "      <td>NEGATIVE</td>\n",
       "      <td>0.514583</td>\n",
       "    </tr>\n",
       "  </tbody>\n",
       "</table>\n",
       "</div>"
      ],
      "text/plain": [
       "     review_id       resort   full_day_price  avg_rating  \\\n",
       "172        173  Mount Hotham            67.0         4.7   \n",
       "\n",
       "                                                review  text_length     label  \\\n",
       "172  Exceeded my expectation. Even a month felt les...           73  NEGATIVE   \n",
       "\n",
       "        score  \n",
       "172  0.514583  "
      ]
     },
     "execution_count": 28,
     "metadata": {},
     "output_type": "execute_result"
    }
   ],
   "source": [
    "# find row where score is 0.514583\n",
    "df_low_confidence = df[df['score'] < 0.52]\n",
    "\n",
    "df_low_confidence.head()"
   ]
  },
  {
   "cell_type": "markdown",
   "id": "b6d8dd7b",
   "metadata": {},
   "source": [
    "That row is incorrect. Manually edit. "
   ]
  },
  {
   "cell_type": "code",
   "execution_count": 33,
   "id": "b5e18352",
   "metadata": {},
   "outputs": [
    {
     "data": {
      "text/html": [
       "<div>\n",
       "<style scoped>\n",
       "    .dataframe tbody tr th:only-of-type {\n",
       "        vertical-align: middle;\n",
       "    }\n",
       "\n",
       "    .dataframe tbody tr th {\n",
       "        vertical-align: top;\n",
       "    }\n",
       "\n",
       "    .dataframe thead th {\n",
       "        text-align: right;\n",
       "    }\n",
       "</style>\n",
       "<table border=\"1\" class=\"dataframe\">\n",
       "  <thead>\n",
       "    <tr style=\"text-align: right;\">\n",
       "      <th></th>\n",
       "      <th>review_id</th>\n",
       "      <th>resort</th>\n",
       "      <th>full_day_price</th>\n",
       "      <th>avg_rating</th>\n",
       "      <th>review</th>\n",
       "      <th>text_length</th>\n",
       "      <th>label</th>\n",
       "      <th>score</th>\n",
       "    </tr>\n",
       "  </thead>\n",
       "  <tbody>\n",
       "    <tr>\n",
       "      <th>172</th>\n",
       "      <td>173</td>\n",
       "      <td>Mount Hotham</td>\n",
       "      <td>67.0</td>\n",
       "      <td>4.7</td>\n",
       "      <td>Exceeded my expectation. Even a month felt les...</td>\n",
       "      <td>73</td>\n",
       "      <td>POSITIVE</td>\n",
       "      <td>1.0</td>\n",
       "    </tr>\n",
       "  </tbody>\n",
       "</table>\n",
       "</div>"
      ],
      "text/plain": [
       "     review_id       resort   full_day_price  avg_rating  \\\n",
       "172        173  Mount Hotham            67.0         4.7   \n",
       "\n",
       "                                                review  text_length     label  \\\n",
       "172  Exceeded my expectation. Even a month felt les...           73  POSITIVE   \n",
       "\n",
       "     score  \n",
       "172    1.0  "
      ]
     },
     "execution_count": 33,
     "metadata": {},
     "output_type": "execute_result"
    }
   ],
   "source": [
    "# where review column row contains  \"Exceeded my expectation. Even a month felt less. Can stay here all winter\", change label value to POSITIVE and score to 1\n",
    "df.loc[df['review'] == \"Exceeded my expectation. Even a month felt less. Can stay here all winter\", ['label', 'score']] = ['POSITIVE', 1]\n",
    "\n",
    "df[df['review'] == \"Exceeded my expectation. Even a month felt less. Can stay here all winter\"]"
   ]
  },
  {
   "cell_type": "markdown",
   "id": "7a773f09",
   "metadata": {},
   "source": [
    "Let's check other negative rows "
   ]
  },
  {
   "cell_type": "code",
   "execution_count": 34,
   "id": "a9a94d1e",
   "metadata": {},
   "outputs": [
    {
     "data": {
      "text/html": [
       "<div>\n",
       "<style scoped>\n",
       "    .dataframe tbody tr th:only-of-type {\n",
       "        vertical-align: middle;\n",
       "    }\n",
       "\n",
       "    .dataframe tbody tr th {\n",
       "        vertical-align: top;\n",
       "    }\n",
       "\n",
       "    .dataframe thead th {\n",
       "        text-align: right;\n",
       "    }\n",
       "</style>\n",
       "<table border=\"1\" class=\"dataframe\">\n",
       "  <thead>\n",
       "    <tr style=\"text-align: right;\">\n",
       "      <th></th>\n",
       "      <th>review_id</th>\n",
       "      <th>resort</th>\n",
       "      <th>full_day_price</th>\n",
       "      <th>avg_rating</th>\n",
       "      <th>review</th>\n",
       "      <th>text_length</th>\n",
       "      <th>label</th>\n",
       "      <th>score</th>\n",
       "    </tr>\n",
       "  </thead>\n",
       "  <tbody>\n",
       "    <tr>\n",
       "      <th>2</th>\n",
       "      <td>3</td>\n",
       "      <td>Perisher Ski Resort</td>\n",
       "      <td>183.0</td>\n",
       "      <td>3.0</td>\n",
       "      <td>Perisher Valley is absolutely magical – the sn...</td>\n",
       "      <td>871</td>\n",
       "      <td>NEGATIVE</td>\n",
       "      <td>0.989859</td>\n",
       "    </tr>\n",
       "    <tr>\n",
       "      <th>3</th>\n",
       "      <td>4</td>\n",
       "      <td>Perisher Ski Resort</td>\n",
       "      <td>183.0</td>\n",
       "      <td>2.0</td>\n",
       "      <td>We do the skiing once a year during the last 9...</td>\n",
       "      <td>1478</td>\n",
       "      <td>NEGATIVE</td>\n",
       "      <td>0.998968</td>\n",
       "    </tr>\n",
       "    <tr>\n",
       "      <th>4</th>\n",
       "      <td>5</td>\n",
       "      <td>Perisher Ski Resort</td>\n",
       "      <td>183.0</td>\n",
       "      <td>4.0</td>\n",
       "      <td>I think Perisher does a good job given the con...</td>\n",
       "      <td>194</td>\n",
       "      <td>NEGATIVE</td>\n",
       "      <td>0.997874</td>\n",
       "    </tr>\n",
       "    <tr>\n",
       "      <th>6</th>\n",
       "      <td>7</td>\n",
       "      <td>Perisher Ski Resort</td>\n",
       "      <td>183.0</td>\n",
       "      <td>1.0</td>\n",
       "      <td>My experience at Perisher was unfortunately th...</td>\n",
       "      <td>680</td>\n",
       "      <td>NEGATIVE</td>\n",
       "      <td>0.999798</td>\n",
       "    </tr>\n",
       "    <tr>\n",
       "      <th>10</th>\n",
       "      <td>11</td>\n",
       "      <td>Perisher Ski Resort</td>\n",
       "      <td>183.0</td>\n",
       "      <td>3.0</td>\n",
       "      <td>I came to perisher to ski for the first time, ...</td>\n",
       "      <td>572</td>\n",
       "      <td>NEGATIVE</td>\n",
       "      <td>0.997934</td>\n",
       "    </tr>\n",
       "  </tbody>\n",
       "</table>\n",
       "</div>"
      ],
      "text/plain": [
       "    review_id              resort   full_day_price  avg_rating  \\\n",
       "2           3  Perisher Ski Resort           183.0         3.0   \n",
       "3           4  Perisher Ski Resort           183.0         2.0   \n",
       "4           5  Perisher Ski Resort           183.0         4.0   \n",
       "6           7  Perisher Ski Resort           183.0         1.0   \n",
       "10         11  Perisher Ski Resort           183.0         3.0   \n",
       "\n",
       "                                               review  text_length     label  \\\n",
       "2   Perisher Valley is absolutely magical – the sn...          871  NEGATIVE   \n",
       "3   We do the skiing once a year during the last 9...         1478  NEGATIVE   \n",
       "4   I think Perisher does a good job given the con...          194  NEGATIVE   \n",
       "6   My experience at Perisher was unfortunately th...          680  NEGATIVE   \n",
       "10  I came to perisher to ski for the first time, ...          572  NEGATIVE   \n",
       "\n",
       "       score  \n",
       "2   0.989859  \n",
       "3   0.998968  \n",
       "4   0.997874  \n",
       "6   0.999798  \n",
       "10  0.997934  "
      ]
     },
     "execution_count": 34,
     "metadata": {},
     "output_type": "execute_result"
    }
   ],
   "source": [
    "# create df for only NEGATIVE label\n",
    "df_negative = df[df['label'] == 'NEGATIVE']\n",
    "\n",
    "df_negative.head()"
   ]
  },
  {
   "cell_type": "code",
   "execution_count": null,
   "id": "5a5065ef",
   "metadata": {},
   "outputs": [],
   "source": [
    "#export df as a csv file\n",
    "# df.to_csv('resort_reviews_sentiment.csv', index=False)"
   ]
  },
  {
   "cell_type": "markdown",
   "id": "a074aca4",
   "metadata": {},
   "source": [
    "Topic Modelling "
   ]
  },
  {
   "cell_type": "code",
   "execution_count": 2,
   "id": "ee11acc2",
   "metadata": {},
   "outputs": [],
   "source": [
    "import matplotlib.pyplot as plt\n",
    "import numpy as np\n",
    "import copy\n",
    "\n",
    "import nltk\n",
    "from nltk.probability import *\n",
    "from nltk.corpus import stopwords\n",
    "from nltk.stem import WordNetLemmatizer\n",
    "from nltk.tokenize import RegexpTokenizer\n",
    "\n",
    "from sklearn.model_selection import cross_val_score, cross_validate\n",
    "from sklearn.metrics import precision_score, recall_score, f1_score, accuracy_score, confusion_matrix, matthews_corrcoef, precision_recall_curve, auc\n",
    "\n",
    "\n",
    "import gensim\n",
    "from gensim.models import Phrases\n",
    "from gensim.corpora import Dictionary\n",
    "from gensim.models import LdaModel\n",
    "\n",
    "import pyLDAvis\n",
    "import pyLDAvis.lda_model\n",
    "import pyLDAvis.gensim_models"
   ]
  },
  {
   "cell_type": "code",
   "execution_count": 3,
   "id": "b00ba036",
   "metadata": {},
   "outputs": [
    {
     "name": "stderr",
     "output_type": "stream",
     "text": [
      "[nltk_data] Downloading package wordnet to /Users/bryanho/nltk_data...\n"
     ]
    },
    {
     "data": {
      "text/plain": [
       "True"
      ]
     },
     "execution_count": 3,
     "metadata": {},
     "output_type": "execute_result"
    }
   ],
   "source": [
    "nltk.download(\"wordnet\")"
   ]
  },
  {
   "cell_type": "code",
   "execution_count": 36,
   "id": "e9b9d0e4",
   "metadata": {},
   "outputs": [],
   "source": [
    "df_sentiment = pd.read_csv(\"resort_reviews_sentiment.csv\")"
   ]
  },
  {
   "cell_type": "code",
   "execution_count": 37,
   "id": "b9ef33a9",
   "metadata": {},
   "outputs": [
    {
     "name": "stdout",
     "output_type": "stream",
     "text": [
      "<class 'pandas.core.frame.DataFrame'>\n",
      "RangeIndex: 270 entries, 0 to 269\n",
      "Data columns (total 8 columns):\n",
      " #   Column          Non-Null Count  Dtype  \n",
      "---  ------          --------------  -----  \n",
      " 0   review_id       270 non-null    int64  \n",
      " 1   resort          270 non-null    object \n",
      " 2   full_day_price  270 non-null    float64\n",
      " 3   avg_rating      270 non-null    float64\n",
      " 4   review          270 non-null    object \n",
      " 5   text_length     270 non-null    int64  \n",
      " 6   label           270 non-null    object \n",
      " 7   score           270 non-null    float64\n",
      "dtypes: float64(3), int64(2), object(3)\n",
      "memory usage: 17.0+ KB\n"
     ]
    }
   ],
   "source": [
    "df_sentiment.info()"
   ]
  },
  {
   "cell_type": "code",
   "execution_count": 38,
   "id": "b95be026",
   "metadata": {},
   "outputs": [
    {
     "data": {
      "text/html": [
       "<div>\n",
       "<style scoped>\n",
       "    .dataframe tbody tr th:only-of-type {\n",
       "        vertical-align: middle;\n",
       "    }\n",
       "\n",
       "    .dataframe tbody tr th {\n",
       "        vertical-align: top;\n",
       "    }\n",
       "\n",
       "    .dataframe thead th {\n",
       "        text-align: right;\n",
       "    }\n",
       "</style>\n",
       "<table border=\"1\" class=\"dataframe\">\n",
       "  <thead>\n",
       "    <tr style=\"text-align: right;\">\n",
       "      <th></th>\n",
       "      <th>review_id</th>\n",
       "      <th>resort</th>\n",
       "      <th>full_day_price</th>\n",
       "      <th>avg_rating</th>\n",
       "      <th>review</th>\n",
       "      <th>text_length</th>\n",
       "      <th>label</th>\n",
       "      <th>score</th>\n",
       "    </tr>\n",
       "  </thead>\n",
       "  <tbody>\n",
       "    <tr>\n",
       "      <th>0</th>\n",
       "      <td>1</td>\n",
       "      <td>Perisher Ski Resort</td>\n",
       "      <td>183.0</td>\n",
       "      <td>5.0</td>\n",
       "      <td>Highly recommended! Me and my family had a fan...</td>\n",
       "      <td>458</td>\n",
       "      <td>POSITIVE</td>\n",
       "      <td>0.999874</td>\n",
       "    </tr>\n",
       "    <tr>\n",
       "      <th>1</th>\n",
       "      <td>2</td>\n",
       "      <td>Perisher Ski Resort</td>\n",
       "      <td>183.0</td>\n",
       "      <td>5.0</td>\n",
       "      <td>Visited Perisher valley, Smiggin Holes.. Which...</td>\n",
       "      <td>339</td>\n",
       "      <td>POSITIVE</td>\n",
       "      <td>0.991743</td>\n",
       "    </tr>\n",
       "    <tr>\n",
       "      <th>2</th>\n",
       "      <td>3</td>\n",
       "      <td>Perisher Ski Resort</td>\n",
       "      <td>183.0</td>\n",
       "      <td>3.0</td>\n",
       "      <td>Perisher Valley is absolutely magical – the sn...</td>\n",
       "      <td>871</td>\n",
       "      <td>NEGATIVE</td>\n",
       "      <td>0.989859</td>\n",
       "    </tr>\n",
       "    <tr>\n",
       "      <th>3</th>\n",
       "      <td>4</td>\n",
       "      <td>Perisher Ski Resort</td>\n",
       "      <td>183.0</td>\n",
       "      <td>2.0</td>\n",
       "      <td>We do the skiing once a year during the last 9...</td>\n",
       "      <td>1478</td>\n",
       "      <td>NEGATIVE</td>\n",
       "      <td>0.998968</td>\n",
       "    </tr>\n",
       "    <tr>\n",
       "      <th>4</th>\n",
       "      <td>5</td>\n",
       "      <td>Perisher Ski Resort</td>\n",
       "      <td>183.0</td>\n",
       "      <td>4.0</td>\n",
       "      <td>I think Perisher does a good job given the con...</td>\n",
       "      <td>194</td>\n",
       "      <td>NEGATIVE</td>\n",
       "      <td>0.997874</td>\n",
       "    </tr>\n",
       "  </tbody>\n",
       "</table>\n",
       "</div>"
      ],
      "text/plain": [
       "   review_id               resort  full_day_price  avg_rating  \\\n",
       "0          1  Perisher Ski Resort           183.0         5.0   \n",
       "1          2  Perisher Ski Resort           183.0         5.0   \n",
       "2          3  Perisher Ski Resort           183.0         3.0   \n",
       "3          4  Perisher Ski Resort           183.0         2.0   \n",
       "4          5  Perisher Ski Resort           183.0         4.0   \n",
       "\n",
       "                                              review  text_length     label  \\\n",
       "0  Highly recommended! Me and my family had a fan...          458  POSITIVE   \n",
       "1  Visited Perisher valley, Smiggin Holes.. Which...          339  POSITIVE   \n",
       "2  Perisher Valley is absolutely magical – the sn...          871  NEGATIVE   \n",
       "3  We do the skiing once a year during the last 9...         1478  NEGATIVE   \n",
       "4  I think Perisher does a good job given the con...          194  NEGATIVE   \n",
       "\n",
       "      score  \n",
       "0  0.999874  \n",
       "1  0.991743  \n",
       "2  0.989859  \n",
       "3  0.998968  \n",
       "4  0.997874  "
      ]
     },
     "execution_count": 38,
     "metadata": {},
     "output_type": "execute_result"
    }
   ],
   "source": [
    "df_sentiment.head()"
   ]
  },
  {
   "cell_type": "code",
   "execution_count": 50,
   "id": "18c15753",
   "metadata": {},
   "outputs": [
    {
     "data": {
      "text/plain": [
       "array(['Perisher Ski Resort', 'Mt Buller', 'Mt Stirling',\n",
       "       'Thredbo Alpine Hotel', 'Mount Baw Baw', 'Mount Hotham',\n",
       "       'Charlotte Pass Snow Resort', 'Falls Creek', 'Selwyn'],\n",
       "      dtype=object)"
      ]
     },
     "execution_count": 50,
     "metadata": {},
     "output_type": "execute_result"
    }
   ],
   "source": [
    "# for df_sentiment values do strip\n",
    "df_sentiment['resort'] = df_sentiment['resort'].str.strip()\n",
    "\n",
    "df_sentiment['resort'].unique()\n"
   ]
  },
  {
   "cell_type": "code",
   "execution_count": 51,
   "id": "5a12c750",
   "metadata": {},
   "outputs": [],
   "source": [
    "resort_names = list(df_sentiment.resort.unique())"
   ]
  },
  {
   "cell_type": "markdown",
   "id": "4d1f8ec0",
   "metadata": {},
   "source": [
    "separate resorts so each one has its own topic modelling"
   ]
  },
  {
   "cell_type": "code",
   "execution_count": 52,
   "id": "22156632",
   "metadata": {},
   "outputs": [],
   "source": [
    "dfs_by_resort = {}\n",
    "\n",
    "for resort in resort_names:\n",
    "    dfs_by_resort[resort] = df_sentiment[df_sentiment['resort'] == resort]"
   ]
  },
  {
   "cell_type": "code",
   "execution_count": 53,
   "id": "73673f76",
   "metadata": {},
   "outputs": [
    {
     "data": {
      "text/plain": [
       "['Perisher Ski Resort',\n",
       " 'Mt Buller',\n",
       " 'Mt Stirling',\n",
       " 'Thredbo Alpine Hotel',\n",
       " 'Mount Baw Baw',\n",
       " 'Mount Hotham',\n",
       " 'Charlotte Pass Snow Resort',\n",
       " 'Falls Creek',\n",
       " 'Selwyn']"
      ]
     },
     "execution_count": 53,
     "metadata": {},
     "output_type": "execute_result"
    }
   ],
   "source": [
    "list(dfs_by_resort.keys())"
   ]
  },
  {
   "cell_type": "code",
   "execution_count": 57,
   "id": "030ae2a5",
   "metadata": {},
   "outputs": [],
   "source": [
    "# turn or reviews into list of strings\n",
    "resort_text_dict = {}\n",
    "\n",
    "for resort, df in dfs_by_resort.items():\n",
    "    reviews = df['review'].values.tolist()\n",
    "    resort_text_dict[resort] = reviews"
   ]
  },
  {
   "cell_type": "code",
   "execution_count": 59,
   "id": "18ff607c",
   "metadata": {},
   "outputs": [
    {
     "data": {
      "text/plain": [
       "[\"Mt Buller is hands down one of the best ski resorts near Melbourne! I’ve been coming up every Sunday and it never disappoints — the slopes are well-maintained, and the overall vibe on the mountain is energetic and welcoming. My daughter has been taking private lessons, and her coach has been incredible — patient, knowledgeable, and genuinely invested in helping her improve. The progress she’s made has been amazing to watch. Whether you're a beginner or experienced skier, Mt Buller offers a fantastic snow experience for everyone. Highly recommend!\",\n",
       " \"Mount Buller in winter truly casts a spell! Even amidst a gentle mist, the pristine snow-covered landscapes and the crisp, invigorating mountain air weave an unforgettable tapestry of romance. From the shared thrills on the slopes to the cozy warmth by a crackling fire pit, and the breathtaking scenic chairlift rides offering intimate glimpses of the surrounding beauty, it's an absolutely incredible and deeply romantic alpine escape in Victoria. We're creating the most beautiful and cherished memories at Mount Buller this year. Five stars to Mount Buller for these overwhelmingly positive vibes and the most wonderfully romantic moments. I cannot express how incredibly grateful I am for this enchanting experience.\",\n",
       " 'What a magic adventure. We decided to take our whole family skiing this year, and we had a ball. We were lucky with great weather but most importantly the process of getting on the mountain and set up with gear and skis and the girls into ski school was awesome. It made everything easy and reduced any stress on our first time skiers. Thanks to the whole team for making it so easy and so much fun 👍🎿😁']"
      ]
     },
     "execution_count": 59,
     "metadata": {},
     "output_type": "execute_result"
    }
   ],
   "source": [
    "resort_text_dict['Mt Buller'][:3]"
   ]
  },
  {
   "cell_type": "markdown",
   "id": "ee0906f5",
   "metadata": {},
   "source": [
    "Pre processing"
   ]
  },
  {
   "cell_type": "code",
   "execution_count": 61,
   "id": "7d4a6abe",
   "metadata": {},
   "outputs": [
    {
     "name": "stderr",
     "output_type": "stream",
     "text": [
      "[nltk_data] Downloading package stopwords to\n",
      "[nltk_data]     /Users/bryanho/nltk_data...\n",
      "[nltk_data]   Unzipping corpora/stopwords.zip.\n"
     ]
    },
    {
     "data": {
      "text/plain": [
       "True"
      ]
     },
     "execution_count": 61,
     "metadata": {},
     "output_type": "execute_result"
    }
   ],
   "source": [
    "nltk.download('stopwords')"
   ]
  },
  {
   "cell_type": "code",
   "execution_count": 62,
   "id": "0c934159",
   "metadata": {},
   "outputs": [],
   "source": [
    "stop_words  = nltk.corpus.stopwords.words('english')\n",
    "\n",
    "lemmatizer = WordNetLemmatizer()\n",
    "\n",
    "tokenizer = RegexpTokenizer(r'\\w+')"
   ]
  },
  {
   "cell_type": "markdown",
   "id": "076d3fbc",
   "metadata": {},
   "source": [
    "['Perisher Ski Resort',\n",
    " 'Mt Buller',\n",
    " 'Mt Stirling',\n",
    " 'Thredbo Alpine Hotel',\n",
    " 'Mount Baw Baw',\n",
    " 'Mount Hotham',\n",
    " 'Charlotte Pass Snow Resort',\n",
    " 'Falls Creek',\n",
    " 'Selwyn']\n",
    " "
   ]
  },
  {
   "cell_type": "code",
   "execution_count": 65,
   "id": "c562849a",
   "metadata": {},
   "outputs": [],
   "source": [
    "corpus_perisher = resort_text_dict['Perisher Ski Resort']\n",
    "\n",
    "corpus_buller = resort_text_dict['Mt Buller']\n",
    "\n",
    "corpus_stirling = resort_text_dict['Mt Stirling']\n",
    "\n",
    "corpus_thredbo = resort_text_dict['Thredbo Alpine Hotel']\n",
    "\n",
    "corpus_baw_baw = resort_text_dict['Mount Baw Baw']\n",
    "\n",
    "corpus_hotham = resort_text_dict['Mount Hotham']\n",
    "\n",
    "corpus_charlotte = resort_text_dict['Charlotte Pass Snow Resort']\n",
    "\n",
    "corpus_falls = resort_text_dict['Falls Creek']\n",
    "\n",
    "corpus_selwyn = resort_text_dict['Selwyn']"
   ]
  },
  {
   "cell_type": "code",
   "execution_count": 67,
   "id": "ce063192",
   "metadata": {},
   "outputs": [],
   "source": [
    "def text_cleaner(docs):\n",
    "\n",
    "    for idx in range(len(docs)):\n",
    "        docs[idx] = docs[idx].lower()                     \n",
    "        docs[idx] = tokenizer.tokenize(docs[idx])          \n",
    "\n",
    "    docs = [[token for token in doc if not token.isnumeric()] for doc in docs]\n",
    "    docs = [[token for token in doc if len(token) > 1] for doc in docs]\n",
    "    docs = [[token for token in doc if token not in stop_words] for doc in docs]\n",
    "    docs = [[lemmatizer.lemmatize(token) for token in doc] for doc in docs]\n",
    "\n",
    "    return docs"
   ]
  },
  {
   "cell_type": "code",
   "execution_count": 68,
   "id": "588ab5ca",
   "metadata": {},
   "outputs": [],
   "source": [
    "corpus_perisher_cleaned = text_cleaner(copy.deepcopy(corpus_perisher))\n",
    "corpus_buller_cleaned = text_cleaner(copy.deepcopy(corpus_buller))\n",
    "corpus_stirling_cleaned = text_cleaner(copy.deepcopy(corpus_stirling))\n",
    "corpus_thredbo_cleaned = text_cleaner(copy.deepcopy(corpus_thredbo))\n",
    "corpus_baw_baw_cleaned = text_cleaner(copy.deepcopy(corpus_baw_baw))\n",
    "corpus_hotham_cleaned = text_cleaner(copy.deepcopy(corpus_hotham))\n",
    "corpus_charlotte_cleaned = text_cleaner(copy.deepcopy(corpus_charlotte))\n",
    "corpus_falls_cleaned = text_cleaner(copy.deepcopy(corpus_falls))\n",
    "corpus_selwyn_cleaned = text_cleaner(copy.deepcopy(corpus_selwyn))"
   ]
  },
  {
   "cell_type": "code",
   "execution_count": 70,
   "id": "4af2f85d",
   "metadata": {},
   "outputs": [],
   "source": [
    "def bigram_trigram_adder(docs, min_count= 20):\n",
    "    # Add bigrams and trigrams to docs (only ones that appear 20 times or more).\n",
    "    bigram = Phrases(docs, min_count=min_count)\n",
    "    for idx in range(len(docs)):\n",
    "        for token in bigram[docs[idx]]:\n",
    "            if '_' in token:\n",
    "                # Token is a bigram, add to document.\n",
    "                docs[idx].append(token)\n",
    "    return bigram"
   ]
  },
  {
   "cell_type": "code",
   "execution_count": 71,
   "id": "ddafd1c7",
   "metadata": {},
   "outputs": [],
   "source": [
    "corpus_perisher_bigram = bigram_trigram_adder(corpus_perisher_cleaned)\n",
    "corpus_buller_bigram = bigram_trigram_adder(corpus_buller_cleaned)\n",
    "corpus_stirling_bigram = bigram_trigram_adder(corpus_stirling_cleaned)\n",
    "corpus_thredbo_bigram = bigram_trigram_adder(corpus_thredbo_cleaned)\n",
    "corpus_baw_baw_bigram = bigram_trigram_adder(corpus_baw_baw_cleaned)\n",
    "corpus_hotham_bigram = bigram_trigram_adder(corpus_hotham_cleaned)\n",
    "corpus_charlotte_bigram = bigram_trigram_adder(corpus_charlotte_cleaned)\n",
    "corpus_falls_bigram = bigram_trigram_adder(corpus_falls_cleaned)\n",
    "corpus_selwyn_bigram = bigram_trigram_adder(corpus_selwyn_cleaned)\n"
   ]
  },
  {
   "cell_type": "code",
   "execution_count": 85,
   "id": "b9255ca2",
   "metadata": {},
   "outputs": [],
   "source": [
    "def doc_representation_filtered_dict(docs, no_below=2, no_above=0.7):\n",
    "    # Create a dictionary representation of the documents.\n",
    "    dictionary = Dictionary(docs)\n",
    "\n",
    "    # Filter out words that occur less than 20 documents, or more than 50% of the documents.\n",
    "    dictionary.filter_extremes(no_below=no_below, no_above=no_above)\n",
    "\n",
    "    return dictionary"
   ]
  },
  {
   "cell_type": "code",
   "execution_count": 86,
   "id": "360a0fe2",
   "metadata": {},
   "outputs": [],
   "source": [
    "corpus_perisher_dict = doc_representation_filtered_dict(corpus_perisher_cleaned)\n",
    "corpus_buller_dict = doc_representation_filtered_dict(corpus_buller_cleaned)\n",
    "corpus_stirling_dict = doc_representation_filtered_dict(corpus_stirling_cleaned)\n",
    "corpus_thredbo_dict = doc_representation_filtered_dict(corpus_thredbo_cleaned)\n",
    "corpus_baw_baw_dict = doc_representation_filtered_dict(corpus_baw_baw_cleaned)\n",
    "corpus_hotham_dict = doc_representation_filtered_dict(corpus_hotham_cleaned)\n",
    "corpus_charlotte_dict = doc_representation_filtered_dict(corpus_charlotte_cleaned)\n",
    "corpus_falls_dict = doc_representation_filtered_dict(corpus_falls_cleaned)\n",
    "corpus_selwyn_dict = doc_representation_filtered_dict(corpus_selwyn_cleaned)\n"
   ]
  },
  {
   "cell_type": "code",
   "execution_count": 87,
   "id": "559f1763",
   "metadata": {},
   "outputs": [],
   "source": [
    "def bag_of_words_representation(docs, dictionary):\n",
    "    # Create a bag of words representation of the documents.\n",
    "    bow_corpus = [dictionary.doc2bow(doc) for doc in docs]\n",
    "\n",
    "    return bow_corpus"
   ]
  },
  {
   "cell_type": "code",
   "execution_count": 88,
   "id": "48adb953",
   "metadata": {},
   "outputs": [],
   "source": [
    "corpus_perisher_bow = bag_of_words_representation(corpus_perisher_cleaned, corpus_perisher_dict)\n",
    "corpus_buller_bow = bag_of_words_representation(corpus_buller_cleaned, corpus_buller_dict)\n",
    "corpus_stirling_bow = bag_of_words_representation(corpus_stirling_cleaned, corpus_stirling_dict)\n",
    "corpus_thredbo_bow = bag_of_words_representation(corpus_thredbo_cleaned, corpus_thredbo_dict)\n",
    "corpus_baw_baw_bow = bag_of_words_representation(corpus_baw_baw_cleaned, corpus_baw_baw_dict)\n",
    "corpus_hotham_bow = bag_of_words_representation(corpus_hotham_cleaned, corpus_hotham_dict)\n",
    "corpus_charlotte_bow = bag_of_words_representation(corpus_charlotte_cleaned, corpus_charlotte_dict)\n",
    "corpus_falls_bow = bag_of_words_representation(corpus_falls_cleaned, corpus_falls_dict)\n",
    "corpus_selwyn_bow = bag_of_words_representation(corpus_selwyn_cleaned, corpus_selwyn_dict)"
   ]
  },
  {
   "cell_type": "markdown",
   "id": "db823045",
   "metadata": {},
   "source": [
    "Perisher"
   ]
  },
  {
   "cell_type": "code",
   "execution_count": null,
   "id": "8ccddc2e",
   "metadata": {},
   "outputs": [],
   "source": [
    "# Set training parameters.\n",
    "NUM_TOPICS = 10\n",
    "chunksize = 1000\n",
    "passes = 20\n",
    "iterations = 400\n",
    "eval_every = None  # Don't evaluate model perplexity, takes too much time.\n",
    "\n",
    "# Make a index to word dictionary.\n",
    "temp = corpus_perisher_dict[0]  # This is only to \"load\" the dictionary.\n",
    "id2word = corpus_perisher_dict.id2token\n",
    "\n",
    "corpus_perisher_mod = LdaModel(\n",
    "    corpus=corpus_perisher_bow,\n",
    "    id2word=id2word,\n",
    "    chunksize=chunksize,\n",
    "    alpha='auto',\n",
    "    eta='auto',\n",
    "    iterations=iterations,\n",
    "    num_topics=NUM_TOPICS,\n",
    "    passes=passes,\n",
    "    eval_every=eval_every\n",
    ")\n",
    "outputfile = f'model{NUM_TOPICS}_1k.gensim'\n",
    "print(\"Saving model in \" + outputfile)\n",
    "print(\"\")\n",
    "corpus_perisher_mod.save(outputfile)"
   ]
  },
  {
   "cell_type": "markdown",
   "id": "c55d5cf8",
   "metadata": {},
   "source": [
    "Buller"
   ]
  },
  {
   "cell_type": "code",
   "execution_count": null,
   "id": "70a5a882",
   "metadata": {},
   "outputs": [],
   "source": [
    "# Set training parameters.\n",
    "NUM_TOPICS = 10\n",
    "chunksize = 1000\n",
    "passes = 20\n",
    "iterations = 400\n",
    "eval_every = None  # Don't evaluate model perplexity, takes too much time.\n",
    "\n",
    "# Make a index to word dictionary.\n",
    "temp = corpus_buller_dict[0]  # This is only to \"load\" the dictionary.\n",
    "id2word = corpus_buller_dict.id2token\n",
    "\n",
    "corpus_buller_mod = LdaModel(\n",
    "    corpus=corpus_buller_bow,\n",
    "    id2word=id2word,\n",
    "    chunksize=chunksize,\n",
    "    alpha='auto',\n",
    "    eta='auto',\n",
    "    iterations=iterations,\n",
    "    num_topics=NUM_TOPICS,\n",
    "    passes=passes,\n",
    "    eval_every=eval_every\n",
    ")\n",
    "outputfile = f'model{NUM_TOPICS}_1k.gensim'\n",
    "print(\"Saving model in \" + outputfile)\n",
    "print(\"\")\n",
    "corpus_buller_mod.save(outputfile)"
   ]
  },
  {
   "cell_type": "markdown",
   "id": "ad7412fd",
   "metadata": {},
   "source": [
    "Stirling"
   ]
  },
  {
   "cell_type": "code",
   "execution_count": null,
   "id": "00824f87",
   "metadata": {},
   "outputs": [],
   "source": [
    "# Set training parameters.\n",
    "NUM_TOPICS = 10\n",
    "chunksize = 1000\n",
    "passes = 20\n",
    "iterations = 400\n",
    "eval_every = None  # Don't evaluate model perplexity, takes too much time.\n",
    "\n",
    "# Make a index to word dictionary.\n",
    "temp = corpus_stirling_dict[0]  # This is only to \"load\" the dictionary.\n",
    "id2word = corpus_stirling_dict.id2token\n",
    "\n",
    "corpus_stirling_mod = LdaModel(\n",
    "    corpus=corpus_stirling_bow,\n",
    "    id2word=id2word,\n",
    "    chunksize=chunksize,\n",
    "    alpha='auto',\n",
    "    eta='auto',\n",
    "    iterations=iterations,\n",
    "    num_topics=NUM_TOPICS,\n",
    "    passes=passes,\n",
    "    eval_every=eval_every\n",
    ")\n",
    "outputfile = f'model{NUM_TOPICS}_1k.gensim'\n",
    "print(\"Saving model in \" + outputfile)\n",
    "print(\"\")\n",
    "corpus_stirling_mod.save(outputfile)"
   ]
  },
  {
   "cell_type": "markdown",
   "id": "5b97ae30",
   "metadata": {},
   "source": [
    "Thredbo"
   ]
  },
  {
   "cell_type": "code",
   "execution_count": null,
   "id": "bdce5027",
   "metadata": {},
   "outputs": [],
   "source": [
    "# Set training parameters.\n",
    "NUM_TOPICS = 10\n",
    "chunksize = 1000\n",
    "passes = 20\n",
    "iterations = 400\n",
    "eval_every = None  # Don't evaluate model perplexity, takes too much time.\n",
    "\n",
    "# Make a index to word dictionary.\n",
    "temp = corpus_thredbo_dict[0]  # This is only to \"load\" the dictionary.\n",
    "id2word = corpus_thredbo_dict.id2token\n",
    "\n",
    "corpus_thredbo_mod = LdaModel(\n",
    "    corpus=corpus_thredbo_bow,\n",
    "    id2word=id2word,\n",
    "    chunksize=chunksize,\n",
    "    alpha='auto',\n",
    "    eta='auto',\n",
    "    iterations=iterations,\n",
    "    num_topics=NUM_TOPICS,\n",
    "    passes=passes,\n",
    "    eval_every=eval_every\n",
    ")\n",
    "outputfile = f'model{NUM_TOPICS}_1k.gensim'\n",
    "print(\"Saving model in \" + outputfile)\n",
    "print(\"\")\n",
    "corpus_thredbo_mod.save(outputfile)"
   ]
  },
  {
   "cell_type": "markdown",
   "id": "1be1aec0",
   "metadata": {},
   "source": [
    "Baw Baw"
   ]
  },
  {
   "cell_type": "code",
   "execution_count": null,
   "id": "39fe1c8a",
   "metadata": {},
   "outputs": [],
   "source": [
    "# Set training parameters.\n",
    "NUM_TOPICS = 10\n",
    "chunksize = 1000\n",
    "passes = 20\n",
    "iterations = 400\n",
    "eval_every = None  # Don't evaluate model perplexity, takes too much time.\n",
    "\n",
    "# Make a index to word dictionary.\n",
    "temp = corpus_baw_baw_dict[0]  # This is only to \"load\" the dictionary.\n",
    "id2word = corpus_baw_baw_dict.id2token\n",
    "\n",
    "corpus_baw_baw_mod = LdaModel(\n",
    "    corpus=corpus_baw_baw_bow,\n",
    "    id2word=id2word,\n",
    "    chunksize=chunksize,\n",
    "    alpha='auto',\n",
    "    eta='auto',\n",
    "    iterations=iterations,\n",
    "    num_topics=NUM_TOPICS,\n",
    "    passes=passes,\n",
    "    eval_every=eval_every\n",
    ")\n",
    "outputfile = f'model{NUM_TOPICS}_1k.gensim'\n",
    "print(\"Saving model in \" + outputfile)\n",
    "print(\"\")\n",
    "corpus_baw_baw_mod.save(outputfile)"
   ]
  },
  {
   "cell_type": "markdown",
   "id": "074bf1c3",
   "metadata": {},
   "source": [
    "Hotham"
   ]
  },
  {
   "cell_type": "code",
   "execution_count": null,
   "id": "a9099a4d",
   "metadata": {},
   "outputs": [],
   "source": [
    "# Set training parameters.\n",
    "NUM_TOPICS = 10\n",
    "chunksize = 1000\n",
    "passes = 20\n",
    "iterations = 400\n",
    "eval_every = None  # Don't evaluate model perplexity, takes too much time.\n",
    "\n",
    "# Make a index to word dictionary.\n",
    "temp = corpus_hotham_dict[0]  # This is only to \"load\" the dictionary.\n",
    "id2word = corpus_hotham_dict.id2token\n",
    "\n",
    "corpus_hotham_mod = LdaModel(\n",
    "    corpus=corpus_hotham_bow,\n",
    "    id2word=id2word,\n",
    "    chunksize=chunksize,\n",
    "    alpha='auto',\n",
    "    eta='auto',\n",
    "    iterations=iterations,\n",
    "    num_topics=NUM_TOPICS,\n",
    "    passes=passes,\n",
    "    eval_every=eval_every\n",
    ")\n",
    "outputfile = f'model{NUM_TOPICS}_1k.gensim'\n",
    "print(\"Saving model in \" + outputfile)\n",
    "print(\"\")\n",
    "corpus_hotham_mod.save(outputfile)"
   ]
  },
  {
   "cell_type": "markdown",
   "id": "3a1c18df",
   "metadata": {},
   "source": [
    "Charlotte"
   ]
  },
  {
   "cell_type": "code",
   "execution_count": null,
   "id": "8e2f6ffc",
   "metadata": {},
   "outputs": [],
   "source": [
    "# Set training parameters.\n",
    "NUM_TOPICS = 10\n",
    "chunksize = 1000\n",
    "passes = 20\n",
    "iterations = 400\n",
    "eval_every = None  # Don't evaluate model perplexity, takes too much time.\n",
    "\n",
    "# Make a index to word dictionary.\n",
    "temp = corpus_charlotte_dict[0]  # This is only to \"load\" the dictionary.\n",
    "id2word = corpus_charlotte_dict.id2token\n",
    "\n",
    "corpus_charlotte_mod = LdaModel(\n",
    "    corpus=corpus_charlotte_bow,\n",
    "    id2word=id2word,\n",
    "    chunksize=chunksize,\n",
    "    alpha='auto',\n",
    "    eta='auto',\n",
    "    iterations=iterations,\n",
    "    num_topics=NUM_TOPICS,\n",
    "    passes=passes,\n",
    "    eval_every=eval_every\n",
    ")\n",
    "outputfile = f'model{NUM_TOPICS}_1k.gensim'\n",
    "print(\"Saving model in \" + outputfile)\n",
    "print(\"\")\n",
    "corpus_charlotte_mod.save(outputfile)"
   ]
  },
  {
   "cell_type": "markdown",
   "id": "e5729206",
   "metadata": {},
   "source": [
    "Falls"
   ]
  },
  {
   "cell_type": "code",
   "execution_count": null,
   "id": "6d616880",
   "metadata": {},
   "outputs": [],
   "source": [
    "# Set training parameters.\n",
    "NUM_TOPICS = 10\n",
    "chunksize = 1000\n",
    "passes = 20\n",
    "iterations = 400\n",
    "eval_every = None  # Don't evaluate model perplexity, takes too much time.\n",
    "\n",
    "# Make a index to word dictionary.\n",
    "temp = corpus_falls_dict[0]  # This is only to \"load\" the dictionary.\n",
    "id2word = corpus_falls_dict.id2token\n",
    "\n",
    "corpus_falls_mod = LdaModel(\n",
    "    corpus=corpus_falls_bow,\n",
    "    id2word=id2word,\n",
    "    chunksize=chunksize,\n",
    "    alpha='auto',\n",
    "    eta='auto',\n",
    "    iterations=iterations,\n",
    "    num_topics=NUM_TOPICS,\n",
    "    passes=passes,\n",
    "    eval_every=eval_every\n",
    ")\n",
    "outputfile = f'model{NUM_TOPICS}_1k.gensim'\n",
    "print(\"Saving model in \" + outputfile)\n",
    "print(\"\")\n",
    "corpus_falls_mod.save(outputfile)"
   ]
  },
  {
   "cell_type": "markdown",
   "id": "6710b3db",
   "metadata": {},
   "source": [
    "Perisher"
   ]
  },
  {
   "cell_type": "code",
   "execution_count": null,
   "id": "ee35d9c5",
   "metadata": {},
   "outputs": [],
   "source": [
    "# Set training parameters.\n",
    "NUM_TOPICS = 10\n",
    "chunksize = 1000\n",
    "passes = 20\n",
    "iterations = 400\n",
    "eval_every = None  # Don't evaluate model perplexity, takes too much time.\n",
    "\n",
    "# Make a index to word dictionary.\n",
    "temp = corpus_selwyn_dict[0]  # This is only to \"load\" the dictionary.\n",
    "id2word = corpus_selwyn_dict.id2token\n",
    "\n",
    "corpus_selwyn_mod = LdaModel(\n",
    "    corpus=corpus_selwyn_bow,\n",
    "    id2word=id2word,\n",
    "    chunksize=chunksize,\n",
    "    alpha='auto',\n",
    "    eta='auto',\n",
    "    iterations=iterations,\n",
    "    num_topics=NUM_TOPICS,\n",
    "    passes=passes,\n",
    "    eval_every=eval_every\n",
    ")\n",
    "outputfile = f'model{NUM_TOPICS}_1k.gensim'\n",
    "print(\"Saving model in \" + outputfile)\n",
    "print(\"\")\n",
    "corpus_selwyn_mod.save(outputfile)"
   ]
  },
  {
   "cell_type": "markdown",
   "id": "dd473768",
   "metadata": {},
   "source": [
    "DONE\n"
   ]
  },
  {
   "cell_type": "markdown",
   "id": "e68d05d8",
   "metadata": {},
   "source": []
  }
 ],
 "metadata": {
  "kernelspec": {
   "display_name": "SemiStruc",
   "language": "python",
   "name": "python3"
  },
  "language_info": {
   "codemirror_mode": {
    "name": "ipython",
    "version": 3
   },
   "file_extension": ".py",
   "mimetype": "text/x-python",
   "name": "python",
   "nbconvert_exporter": "python",
   "pygments_lexer": "ipython3",
   "version": "3.11.12"
  }
 },
 "nbformat": 4,
 "nbformat_minor": 5
}
