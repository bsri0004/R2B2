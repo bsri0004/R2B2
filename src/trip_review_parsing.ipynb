{
 "cells": [
  {
   "cell_type": "code",
   "execution_count": null,
   "id": "50695903",
   "metadata": {},
   "outputs": [
    {
     "name": "stderr",
     "output_type": "stream",
     "text": [
      "/opt/anaconda3/envs/SemiStruc/lib/python3.11/site-packages/tqdm/auto.py:21: TqdmWarning: IProgress not found. Please update jupyter and ipywidgets. See https://ipywidgets.readthedocs.io/en/stable/user_install.html\n",
      "  from .autonotebook import tqdm as notebook_tqdm\n"
     ]
    }
   ],
   "source": [
    "from transformers import pipeline # 30 seconds to load"
   ]
  },
  {
   "cell_type": "code",
   "execution_count": null,
   "id": "5c87b575",
   "metadata": {},
   "outputs": [],
   "source": [
    "import pandas as pd"
   ]
  },
  {
   "cell_type": "markdown",
   "id": "23ec4180",
   "metadata": {},
   "source": [
    "Import your csv of reviews"
   ]
  },
  {
   "cell_type": "code",
   "execution_count": null,
   "id": "0ed2a27a",
   "metadata": {},
   "outputs": [],
   "source": [
    "df = pd.read_csv(\"your_file.csv\")\n",
    "\n",
    "print(df.shape)     # rows, columns"
   ]
  },
  {
   "cell_type": "markdown",
   "id": "acd6bf10",
   "metadata": {},
   "source": [
    "Select which model to use for sentiment analysis"
   ]
  },
  {
   "cell_type": "code",
   "execution_count": null,
   "id": "7072fffb",
   "metadata": {},
   "outputs": [],
   "source": [
    "sentiment_pipeline = pipeline(model=\"distilbert/distilbert-base-uncased-finetuned-sst-2-english\")"
   ]
  },
  {
   "cell_type": "code",
   "execution_count": 17,
   "id": "8e813a9d",
   "metadata": {},
   "outputs": [],
   "source": [
    "def add_sentiment_columns(df: pd.DataFrame, text_col: str = \"review_text\") -> pd.DataFrame:\n",
    "    \"\"\"\n",
    "    Adds sentiment 'label' and 'score' columns to a DataFrame using a HuggingFace pipeline.\n",
    "\n",
    "    Args:\n",
    "        df (pd.DataFrame): Input DataFrame containing a column of text reviews.\n",
    "        text_col (str): Name of the column with text to analyze.\n",
    "\n",
    "    Returns:\n",
    "        pd.DataFrame: Original DataFrame with new 'label' and 'score' columns.\n",
    "    \"\"\"\n",
    "\n",
    "    def get_sentiment(text: str):\n",
    "        result = sentiment_pipeline(text)[0]\n",
    "        return result[\"label\"], result[\"score\"]\n",
    "\n",
    "    # Apply to every row and split tuple into 2 columns\n",
    "    df[[\"label\", \"score\"]] = df[text_col].map(get_sentiment).apply(pd.Series)\n",
    "\n",
    "    return df\n"
   ]
  },
  {
   "cell_type": "code",
   "execution_count": 18,
   "id": "74ff4cd0",
   "metadata": {},
   "outputs": [
    {
     "data": {
      "text/html": [
       "<div>\n",
       "<style scoped>\n",
       "    .dataframe tbody tr th:only-of-type {\n",
       "        vertical-align: middle;\n",
       "    }\n",
       "\n",
       "    .dataframe tbody tr th {\n",
       "        vertical-align: top;\n",
       "    }\n",
       "\n",
       "    .dataframe thead th {\n",
       "        text-align: right;\n",
       "    }\n",
       "</style>\n",
       "<table border=\"1\" class=\"dataframe\">\n",
       "  <thead>\n",
       "    <tr style=\"text-align: right;\">\n",
       "      <th></th>\n",
       "      <th>review_id</th>\n",
       "      <th>user</th>\n",
       "      <th>review_text</th>\n",
       "      <th>rating</th>\n",
       "      <th>label</th>\n",
       "      <th>score</th>\n",
       "    </tr>\n",
       "  </thead>\n",
       "  <tbody>\n",
       "    <tr>\n",
       "      <th>0</th>\n",
       "      <td>1</td>\n",
       "      <td>alice</td>\n",
       "      <td>Great trip, very comfortable!</td>\n",
       "      <td>5</td>\n",
       "      <td>POSITIVE</td>\n",
       "      <td>0.999876</td>\n",
       "    </tr>\n",
       "    <tr>\n",
       "      <th>1</th>\n",
       "      <td>2</td>\n",
       "      <td>bob</td>\n",
       "      <td>The ride was okay, but the driver was late.</td>\n",
       "      <td>3</td>\n",
       "      <td>NEGATIVE</td>\n",
       "      <td>0.992544</td>\n",
       "    </tr>\n",
       "    <tr>\n",
       "      <th>2</th>\n",
       "      <td>3</td>\n",
       "      <td>carol</td>\n",
       "      <td>Terrible experience, will not use again.</td>\n",
       "      <td>1</td>\n",
       "      <td>NEGATIVE</td>\n",
       "      <td>0.990816</td>\n",
       "    </tr>\n",
       "  </tbody>\n",
       "</table>\n",
       "</div>"
      ],
      "text/plain": [
       "   review_id   user                                  review_text  rating  \\\n",
       "0          1  alice                Great trip, very comfortable!       5   \n",
       "1          2    bob  The ride was okay, but the driver was late.       3   \n",
       "2          3  carol     Terrible experience, will not use again.       1   \n",
       "\n",
       "      label     score  \n",
       "0  POSITIVE  0.999876  \n",
       "1  NEGATIVE  0.992544  \n",
       "2  NEGATIVE  0.990816  "
      ]
     },
     "execution_count": 18,
     "metadata": {},
     "output_type": "execute_result"
    }
   ],
   "source": [
    "add_sentiment_columns(df)"
   ]
  }
 ],
 "metadata": {
  "kernelspec": {
   "display_name": "SemiStruc",
   "language": "python",
   "name": "python3"
  },
  "language_info": {
   "codemirror_mode": {
    "name": "ipython",
    "version": 3
   },
   "file_extension": ".py",
   "mimetype": "text/x-python",
   "name": "python",
   "nbconvert_exporter": "python",
   "pygments_lexer": "ipython3",
   "version": "3.11.12"
  }
 },
 "nbformat": 4,
 "nbformat_minor": 5
}
