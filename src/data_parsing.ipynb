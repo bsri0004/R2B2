{
 "cells": [
  {
   "cell_type": "markdown",
   "id": "4df1a0a2",
   "metadata": {
    "vscode": {
     "languageId": "plaintext"
    }
   },
   "source": [
    "# Data Parsing"
   ]
  },
  {
   "cell_type": "code",
   "execution_count": 2,
   "id": "d16d3eb7",
   "metadata": {},
   "outputs": [],
   "source": [
    "import pandas as pd\n",
    "import numpy as np\n",
    "from pathlib import Path"
   ]
  },
  {
   "cell_type": "code",
   "execution_count": 7,
   "id": "75fd9358",
   "metadata": {},
   "outputs": [
    {
     "data": {
      "text/plain": [
       "PosixPath('../data/2025 Allianz Datathon Dataset.xlsx')"
      ]
     },
     "execution_count": 7,
     "metadata": {},
     "output_type": "execute_result"
    }
   ],
   "source": [
    "data_fp = list(Path().rglob('../data/2025*.xlsx'))[0]\n",
    "data_fp"
   ]
  },
  {
   "cell_type": "code",
   "execution_count": 11,
   "id": "94000a6c",
   "metadata": {},
   "outputs": [],
   "source": [
    "excel_sheets = pd.read_excel(data_fp, sheet_name=None)\n"
   ]
  },
  {
   "cell_type": "code",
   "execution_count": 15,
   "id": "44cfc35a",
   "metadata": {},
   "outputs": [],
   "source": [
    "info_data, visitation_data, climate_data = [v for _, v in excel_sheets.items()]"
   ]
  },
  {
   "cell_type": "code",
   "execution_count": 26,
   "id": "598fd8ce",
   "metadata": {},
   "outputs": [
    {
     "data": {
      "text/plain": [
       "21             71032 - Thredbo AWS\n",
       "22            71075 - Perisher AWS\n",
       "23    72161 - Cabramurra SMHEA AWS\n",
       "24            83024 - Mount Buller\n",
       "25             83084 - Falls Creek\n",
       "Name: Unnamed: 1, dtype: object"
      ]
     },
     "execution_count": 26,
     "metadata": {},
     "output_type": "execute_result"
    }
   ],
   "source": [
    "info_data.iloc[21:26,1]"
   ]
  },
  {
   "cell_type": "code",
   "execution_count": null,
   "id": "4d180c17",
   "metadata": {},
   "outputs": [
    {
     "data": {
      "text/html": [
       "<div>\n",
       "<style scoped>\n",
       "    .dataframe tbody tr th:only-of-type {\n",
       "        vertical-align: middle;\n",
       "    }\n",
       "\n",
       "    .dataframe tbody tr th {\n",
       "        vertical-align: top;\n",
       "    }\n",
       "\n",
       "    .dataframe thead th {\n",
       "        text-align: right;\n",
       "    }\n",
       "</style>\n",
       "<table border=\"1\" class=\"dataframe\">\n",
       "  <thead>\n",
       "    <tr style=\"text-align: right;\">\n",
       "      <th></th>\n",
       "      <th>Unnamed: 1</th>\n",
       "      <th>Unnamed: 2</th>\n",
       "    </tr>\n",
       "  </thead>\n",
       "  <tbody>\n",
       "    <tr>\n",
       "      <th>35</th>\n",
       "      <td>Week 1</td>\n",
       "      <td>2024-06-09</td>\n",
       "    </tr>\n",
       "    <tr>\n",
       "      <th>36</th>\n",
       "      <td>Week 2</td>\n",
       "      <td>2024-06-16</td>\n",
       "    </tr>\n",
       "    <tr>\n",
       "      <th>37</th>\n",
       "      <td>Week 3</td>\n",
       "      <td>2024-06-23</td>\n",
       "    </tr>\n",
       "    <tr>\n",
       "      <th>38</th>\n",
       "      <td>Week 4</td>\n",
       "      <td>2024-06-30</td>\n",
       "    </tr>\n",
       "    <tr>\n",
       "      <th>39</th>\n",
       "      <td>Week 5</td>\n",
       "      <td>2024-07-07</td>\n",
       "    </tr>\n",
       "    <tr>\n",
       "      <th>40</th>\n",
       "      <td>Week 6</td>\n",
       "      <td>2024-07-14</td>\n",
       "    </tr>\n",
       "    <tr>\n",
       "      <th>41</th>\n",
       "      <td>Week 7</td>\n",
       "      <td>2024-07-21</td>\n",
       "    </tr>\n",
       "    <tr>\n",
       "      <th>42</th>\n",
       "      <td>Week 8</td>\n",
       "      <td>2024-07-28</td>\n",
       "    </tr>\n",
       "    <tr>\n",
       "      <th>43</th>\n",
       "      <td>Week 9</td>\n",
       "      <td>2024-08-04</td>\n",
       "    </tr>\n",
       "    <tr>\n",
       "      <th>44</th>\n",
       "      <td>Week 10</td>\n",
       "      <td>2024-08-11</td>\n",
       "    </tr>\n",
       "    <tr>\n",
       "      <th>45</th>\n",
       "      <td>Week 11</td>\n",
       "      <td>2024-08-18</td>\n",
       "    </tr>\n",
       "    <tr>\n",
       "      <th>46</th>\n",
       "      <td>Week 12</td>\n",
       "      <td>2024-08-25</td>\n",
       "    </tr>\n",
       "    <tr>\n",
       "      <th>47</th>\n",
       "      <td>Week 13</td>\n",
       "      <td>2024-09-01</td>\n",
       "    </tr>\n",
       "    <tr>\n",
       "      <th>48</th>\n",
       "      <td>Week 14</td>\n",
       "      <td>2024-09-08</td>\n",
       "    </tr>\n",
       "    <tr>\n",
       "      <th>49</th>\n",
       "      <td>Week 15</td>\n",
       "      <td>2024-09-15</td>\n",
       "    </tr>\n",
       "  </tbody>\n",
       "</table>\n",
       "</div>"
      ],
      "text/plain": [
       "   Unnamed: 1 Unnamed: 2\n",
       "35     Week 1 2024-06-09\n",
       "36     Week 2 2024-06-16\n",
       "37     Week 3 2024-06-23\n",
       "38     Week 4 2024-06-30\n",
       "39     Week 5 2024-07-07\n",
       "40     Week 6 2024-07-14\n",
       "41     Week 7 2024-07-21\n",
       "42     Week 8 2024-07-28\n",
       "43     Week 9 2024-08-04\n",
       "44    Week 10 2024-08-11\n",
       "45    Week 11 2024-08-18\n",
       "46    Week 12 2024-08-25\n",
       "47    Week 13 2024-09-01\n",
       "48    Week 14 2024-09-08\n",
       "49    Week 15 2024-09-15"
      ]
     },
     "execution_count": 28,
     "metadata": {},
     "output_type": "execute_result"
    }
   ],
   "source": [
    "ski_season_dates = info_data.iloc[35:, 1:]"
   ]
  },
  {
   "cell_type": "code",
   "execution_count": null,
   "id": "b06f039b",
   "metadata": {},
   "outputs": [],
   "source": []
  }
 ],
 "metadata": {
  "kernelspec": {
   "display_name": ".venv",
   "language": "python",
   "name": "python3"
  },
  "language_info": {
   "codemirror_mode": {
    "name": "ipython",
    "version": 3
   },
   "file_extension": ".py",
   "mimetype": "text/x-python",
   "name": "python",
   "nbconvert_exporter": "python",
   "pygments_lexer": "ipython3",
   "version": "3.12.0"
  }
 },
 "nbformat": 4,
 "nbformat_minor": 5
}
