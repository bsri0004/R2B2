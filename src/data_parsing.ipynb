{
 "cells": [
  {
   "cell_type": "markdown",
   "id": "4df1a0a2",
   "metadata": {
    "vscode": {
     "languageId": "plaintext"
    }
   },
   "source": [
    "# 2026 The Best Ski Trip Prediction"
   ]
  },
  {
   "cell_type": "code",
   "execution_count": 2,
   "id": "d16d3eb7",
   "metadata": {},
   "outputs": [],
   "source": [
    "import pandas as pd\n",
    "import numpy as np\n",
    "from pathlib import Path"
   ]
  },
  {
   "cell_type": "markdown",
   "id": "b487b3cd",
   "metadata": {},
   "source": [
    "## Data Parsing and Cleaning"
   ]
  },
  {
   "cell_type": "code",
   "execution_count": null,
   "id": "44cfc35a",
   "metadata": {},
   "outputs": [],
   "source": [
    "# Read the excel data\n",
    "data_fp = list(Path().rglob('../data/2025*.xlsx'))[0]\n",
    "excel_sheets = pd.read_excel(data_fp, sheet_name=None)\n",
    "# Unpack the excel sheets\n",
    "info_data, visitation_data, climate_data = [v for _, v in excel_sheets.items()]"
   ]
  },
  {
   "cell_type": "code",
   "execution_count": 44,
   "id": "598fd8ce",
   "metadata": {},
   "outputs": [
    {
     "data": {
      "text/html": [
       "<div>\n",
       "<style scoped>\n",
       "    .dataframe tbody tr th:only-of-type {\n",
       "        vertical-align: middle;\n",
       "    }\n",
       "\n",
       "    .dataframe tbody tr th {\n",
       "        vertical-align: top;\n",
       "    }\n",
       "\n",
       "    .dataframe thead th {\n",
       "        text-align: right;\n",
       "    }\n",
       "</style>\n",
       "<table border=\"1\" class=\"dataframe\">\n",
       "  <thead>\n",
       "    <tr style=\"text-align: right;\">\n",
       "      <th></th>\n",
       "      <th>station_id</th>\n",
       "      <th>location</th>\n",
       "    </tr>\n",
       "  </thead>\n",
       "  <tbody>\n",
       "    <tr>\n",
       "      <th>0</th>\n",
       "      <td>71032</td>\n",
       "      <td>Thredbo AWS</td>\n",
       "    </tr>\n",
       "    <tr>\n",
       "      <th>1</th>\n",
       "      <td>71075</td>\n",
       "      <td>Perisher AWS</td>\n",
       "    </tr>\n",
       "    <tr>\n",
       "      <th>2</th>\n",
       "      <td>72161</td>\n",
       "      <td>Cabramurra SMHEA AWS</td>\n",
       "    </tr>\n",
       "    <tr>\n",
       "      <th>3</th>\n",
       "      <td>83024</td>\n",
       "      <td>Mount Buller</td>\n",
       "    </tr>\n",
       "    <tr>\n",
       "      <th>4</th>\n",
       "      <td>83084</td>\n",
       "      <td>Falls Creek</td>\n",
       "    </tr>\n",
       "  </tbody>\n",
       "</table>\n",
       "</div>"
      ],
      "text/plain": [
       "  station_id              location\n",
       "0      71032           Thredbo AWS\n",
       "1      71075          Perisher AWS\n",
       "2      72161  Cabramurra SMHEA AWS\n",
       "3      83024          Mount Buller\n",
       "4      83084           Falls Creek"
      ]
     },
     "execution_count": 44,
     "metadata": {},
     "output_type": "execute_result"
    }
   ],
   "source": [
    "location_id = info_data.iloc[21:26,1].copy()\n",
    "location_id = pd.DataFrame(location_id.str.split(\" - \").to_list(), columns=[\"station_id\", \"location\"])\n",
    "location_id"
   ]
  },
  {
   "cell_type": "code",
   "execution_count": 43,
   "id": "4d180c17",
   "metadata": {},
   "outputs": [
    {
     "name": "stderr",
     "output_type": "stream",
     "text": [
      "/var/folders/_t/r5trfwf935jfhb767r0mq93m0000gn/T/ipykernel_28256/672496871.py:4: FutureWarning: Setting an item of incompatible dtype is deprecated and will raise in a future error of pandas. Value '['09-Jun' '16-Jun' '23-Jun' '30-Jun' '07-Jul' '14-Jul' '21-Jul' '28-Jul'\n",
      " '04-Aug' '11-Aug' '18-Aug' '25-Aug' '01-Sep' '08-Sep' '15-Sep']' has dtype incompatible with datetime64[ns], please explicitly cast to a compatible dtype first.\n",
      "  ski_season_dates.loc[:,\"dates\"] = ski_season_dates.loc[:,\"dates\"].dt.strftime(\"%d-%b\")\n"
     ]
    },
    {
     "data": {
      "text/html": [
       "<div>\n",
       "<style scoped>\n",
       "    .dataframe tbody tr th:only-of-type {\n",
       "        vertical-align: middle;\n",
       "    }\n",
       "\n",
       "    .dataframe tbody tr th {\n",
       "        vertical-align: top;\n",
       "    }\n",
       "\n",
       "    .dataframe thead th {\n",
       "        text-align: right;\n",
       "    }\n",
       "</style>\n",
       "<table border=\"1\" class=\"dataframe\">\n",
       "  <thead>\n",
       "    <tr style=\"text-align: right;\">\n",
       "      <th></th>\n",
       "      <th>week</th>\n",
       "      <th>dates</th>\n",
       "    </tr>\n",
       "  </thead>\n",
       "  <tbody>\n",
       "    <tr>\n",
       "      <th>0</th>\n",
       "      <td>Week 1</td>\n",
       "      <td>09-Jun</td>\n",
       "    </tr>\n",
       "    <tr>\n",
       "      <th>1</th>\n",
       "      <td>Week 2</td>\n",
       "      <td>16-Jun</td>\n",
       "    </tr>\n",
       "    <tr>\n",
       "      <th>2</th>\n",
       "      <td>Week 3</td>\n",
       "      <td>23-Jun</td>\n",
       "    </tr>\n",
       "    <tr>\n",
       "      <th>3</th>\n",
       "      <td>Week 4</td>\n",
       "      <td>30-Jun</td>\n",
       "    </tr>\n",
       "    <tr>\n",
       "      <th>4</th>\n",
       "      <td>Week 5</td>\n",
       "      <td>07-Jul</td>\n",
       "    </tr>\n",
       "    <tr>\n",
       "      <th>5</th>\n",
       "      <td>Week 6</td>\n",
       "      <td>14-Jul</td>\n",
       "    </tr>\n",
       "    <tr>\n",
       "      <th>6</th>\n",
       "      <td>Week 7</td>\n",
       "      <td>21-Jul</td>\n",
       "    </tr>\n",
       "    <tr>\n",
       "      <th>7</th>\n",
       "      <td>Week 8</td>\n",
       "      <td>28-Jul</td>\n",
       "    </tr>\n",
       "    <tr>\n",
       "      <th>8</th>\n",
       "      <td>Week 9</td>\n",
       "      <td>04-Aug</td>\n",
       "    </tr>\n",
       "    <tr>\n",
       "      <th>9</th>\n",
       "      <td>Week 10</td>\n",
       "      <td>11-Aug</td>\n",
       "    </tr>\n",
       "    <tr>\n",
       "      <th>10</th>\n",
       "      <td>Week 11</td>\n",
       "      <td>18-Aug</td>\n",
       "    </tr>\n",
       "    <tr>\n",
       "      <th>11</th>\n",
       "      <td>Week 12</td>\n",
       "      <td>25-Aug</td>\n",
       "    </tr>\n",
       "    <tr>\n",
       "      <th>12</th>\n",
       "      <td>Week 13</td>\n",
       "      <td>01-Sep</td>\n",
       "    </tr>\n",
       "    <tr>\n",
       "      <th>13</th>\n",
       "      <td>Week 14</td>\n",
       "      <td>08-Sep</td>\n",
       "    </tr>\n",
       "    <tr>\n",
       "      <th>14</th>\n",
       "      <td>Week 15</td>\n",
       "      <td>15-Sep</td>\n",
       "    </tr>\n",
       "  </tbody>\n",
       "</table>\n",
       "</div>"
      ],
      "text/plain": [
       "       week   dates\n",
       "0    Week 1  09-Jun\n",
       "1    Week 2  16-Jun\n",
       "2    Week 3  23-Jun\n",
       "3    Week 4  30-Jun\n",
       "4    Week 5  07-Jul\n",
       "5    Week 6  14-Jul\n",
       "6    Week 7  21-Jul\n",
       "7    Week 8  28-Jul\n",
       "8    Week 9  04-Aug\n",
       "9   Week 10  11-Aug\n",
       "10  Week 11  18-Aug\n",
       "11  Week 12  25-Aug\n",
       "12  Week 13  01-Sep\n",
       "13  Week 14  08-Sep\n",
       "14  Week 15  15-Sep"
      ]
     },
     "execution_count": 43,
     "metadata": {},
     "output_type": "execute_result"
    }
   ],
   "source": [
    "ski_season_dates = (info_data.iloc[35:, 1:].copy()\n",
    "                    .rename(columns={\"Unnamed: 1\": \"week\", \"Unnamed: 2\": \"dates\"})\n",
    "                    .reset_index(drop=True))\n",
    "ski_season_dates.loc[:,\"dates\"] = ski_season_dates.loc[:,\"dates\"].dt.strftime(\"%d-%b\")\n",
    "ski_season_dates"
   ]
  }
 ],
 "metadata": {
  "kernelspec": {
   "display_name": ".venv",
   "language": "python",
   "name": "python3"
  },
  "language_info": {
   "codemirror_mode": {
    "name": "ipython",
    "version": 3
   },
   "file_extension": ".py",
   "mimetype": "text/x-python",
   "name": "python",
   "nbconvert_exporter": "python",
   "pygments_lexer": "ipython3",
   "version": "3.12.0"
  }
 },
 "nbformat": 4,
 "nbformat_minor": 5
}
