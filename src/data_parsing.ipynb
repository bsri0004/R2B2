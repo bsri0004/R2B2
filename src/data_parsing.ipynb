{
 "cells": [
  {
   "cell_type": "markdown",
   "id": "4df1a0a2",
   "metadata": {
    "vscode": {
     "languageId": "plaintext"
    }
   },
   "source": [
    "# 2026 The Best Ski Trip Prediction"
   ]
  },
  {
   "cell_type": "code",
   "execution_count": 2,
   "id": "d16d3eb7",
   "metadata": {},
   "outputs": [],
   "source": [
    "import pandas as pd\n",
    "import numpy as np\n",
    "from pathlib import Path"
   ]
  },
  {
   "cell_type": "markdown",
   "id": "b487b3cd",
   "metadata": {},
   "source": [
    "## Data Parsing and Cleaning"
   ]
  },
  {
   "cell_type": "code",
   "execution_count": null,
   "id": "44cfc35a",
   "metadata": {},
   "outputs": [],
   "source": [
    "# Read the excel data\n",
    "data_fp = list(Path().rglob('../data/2025*.xlsx'))[0]\n",
    "excel_sheets = pd.read_excel(data_fp, sheet_name=None)\n",
    "# Unpack the excel sheets\n",
    "info_data, visitation_data, climate_data = [v for _, v in excel_sheets.items()]"
   ]
  },
  {
   "cell_type": "markdown",
   "id": "f2cb9868",
   "metadata": {},
   "source": [
    "### Parsing the info sheet \n",
    "1. Station ID and location\n",
    "2. Winter ski weeks and dates"
   ]
  },
  {
   "cell_type": "code",
   "execution_count": 102,
   "id": "598fd8ce",
   "metadata": {},
   "outputs": [
    {
     "name": "stdout",
     "output_type": "stream",
     "text": [
      "<class 'pandas.core.frame.DataFrame'>\n",
      "RangeIndex: 5 entries, 0 to 4\n",
      "Data columns (total 2 columns):\n",
      " #   Column      Non-Null Count  Dtype \n",
      "---  ------      --------------  ----- \n",
      " 0   station_id  5 non-null      object\n",
      " 1   location    5 non-null      object\n",
      "dtypes: object(2)\n",
      "memory usage: 212.0+ bytes\n",
      "None\n"
     ]
    },
    {
     "data": {
      "text/html": [
       "<div>\n",
       "<style scoped>\n",
       "    .dataframe tbody tr th:only-of-type {\n",
       "        vertical-align: middle;\n",
       "    }\n",
       "\n",
       "    .dataframe tbody tr th {\n",
       "        vertical-align: top;\n",
       "    }\n",
       "\n",
       "    .dataframe thead th {\n",
       "        text-align: right;\n",
       "    }\n",
       "</style>\n",
       "<table border=\"1\" class=\"dataframe\">\n",
       "  <thead>\n",
       "    <tr style=\"text-align: right;\">\n",
       "      <th></th>\n",
       "      <th>station_id</th>\n",
       "      <th>location</th>\n",
       "    </tr>\n",
       "  </thead>\n",
       "  <tbody>\n",
       "    <tr>\n",
       "      <th>0</th>\n",
       "      <td>71032</td>\n",
       "      <td>Thredbo AWS</td>\n",
       "    </tr>\n",
       "    <tr>\n",
       "      <th>1</th>\n",
       "      <td>71075</td>\n",
       "      <td>Perisher AWS</td>\n",
       "    </tr>\n",
       "    <tr>\n",
       "      <th>2</th>\n",
       "      <td>72161</td>\n",
       "      <td>Cabramurra SMHEA AWS</td>\n",
       "    </tr>\n",
       "    <tr>\n",
       "      <th>3</th>\n",
       "      <td>83024</td>\n",
       "      <td>Mount Buller</td>\n",
       "    </tr>\n",
       "    <tr>\n",
       "      <th>4</th>\n",
       "      <td>83084</td>\n",
       "      <td>Falls Creek</td>\n",
       "    </tr>\n",
       "  </tbody>\n",
       "</table>\n",
       "</div>"
      ],
      "text/plain": [
       "  station_id              location\n",
       "0      71032           Thredbo AWS\n",
       "1      71075          Perisher AWS\n",
       "2      72161  Cabramurra SMHEA AWS\n",
       "3      83024          Mount Buller\n",
       "4      83084           Falls Creek"
      ]
     },
     "execution_count": 102,
     "metadata": {},
     "output_type": "execute_result"
    }
   ],
   "source": [
    "location_id = info_data.iloc[21:26,1].copy()\n",
    "location_id = pd.DataFrame(location_id.str.split(\" - \").to_list(), columns=[\"station_id\", \"location\"])\n",
    "location_id = location_id.astype({\"station_id\": str})\n",
    "\n",
    "print(location_id.info())\n",
    "\n",
    "location_id.head()"
   ]
  },
  {
   "cell_type": "code",
   "execution_count": null,
   "id": "4d180c17",
   "metadata": {},
   "outputs": [
    {
     "name": "stdout",
     "output_type": "stream",
     "text": [
      "<class 'pandas.core.frame.DataFrame'>\n",
      "RangeIndex: 15 entries, 0 to 14\n",
      "Data columns (total 2 columns):\n",
      " #   Column  Non-Null Count  Dtype \n",
      "---  ------  --------------  ----- \n",
      " 0   week    15 non-null     object\n",
      " 1   dates   15 non-null     object\n",
      "dtypes: object(2)\n",
      "memory usage: 372.0+ bytes\n",
      "None\n"
     ]
    },
    {
     "data": {
      "text/html": [
       "<div>\n",
       "<style scoped>\n",
       "    .dataframe tbody tr th:only-of-type {\n",
       "        vertical-align: middle;\n",
       "    }\n",
       "\n",
       "    .dataframe tbody tr th {\n",
       "        vertical-align: top;\n",
       "    }\n",
       "\n",
       "    .dataframe thead th {\n",
       "        text-align: right;\n",
       "    }\n",
       "</style>\n",
       "<table border=\"1\" class=\"dataframe\">\n",
       "  <thead>\n",
       "    <tr style=\"text-align: right;\">\n",
       "      <th></th>\n",
       "      <th>week</th>\n",
       "      <th>dates</th>\n",
       "    </tr>\n",
       "  </thead>\n",
       "  <tbody>\n",
       "    <tr>\n",
       "      <th>0</th>\n",
       "      <td>Week 1</td>\n",
       "      <td>09-Jun</td>\n",
       "    </tr>\n",
       "    <tr>\n",
       "      <th>1</th>\n",
       "      <td>Week 2</td>\n",
       "      <td>16-Jun</td>\n",
       "    </tr>\n",
       "    <tr>\n",
       "      <th>2</th>\n",
       "      <td>Week 3</td>\n",
       "      <td>23-Jun</td>\n",
       "    </tr>\n",
       "    <tr>\n",
       "      <th>3</th>\n",
       "      <td>Week 4</td>\n",
       "      <td>30-Jun</td>\n",
       "    </tr>\n",
       "    <tr>\n",
       "      <th>4</th>\n",
       "      <td>Week 5</td>\n",
       "      <td>07-Jul</td>\n",
       "    </tr>\n",
       "  </tbody>\n",
       "</table>\n",
       "</div>"
      ],
      "text/plain": [
       "     week   dates\n",
       "0  Week 1  09-Jun\n",
       "1  Week 2  16-Jun\n",
       "2  Week 3  23-Jun\n",
       "3  Week 4  30-Jun\n",
       "4  Week 5  07-Jul"
      ]
     },
     "execution_count": 101,
     "metadata": {},
     "output_type": "execute_result"
    }
   ],
   "source": [
    "ski_season_dates = (info_data.iloc[35:, 1:].copy()\n",
    "                    .rename(columns={\"Unnamed: 1\": \"week\", \"Unnamed: 2\": \"dates\"})\n",
    "                    .reset_index(drop=True))\n",
    "ski_season_dates[\"dates\"] = ski_season_dates[\"dates\"].dt.strftime(\"%d-%b\")\n",
    "\n",
    "print(ski_season_dates.info())\n",
    "\n",
    "# Check the weeks\n",
    "ski_season_dates.head()"
   ]
  },
  {
   "cell_type": "markdown",
   "id": "db294846",
   "metadata": {},
   "source": [
    "### Parsing the climate data"
   ]
  },
  {
   "cell_type": "code",
   "execution_count": 60,
   "id": "5c49a673",
   "metadata": {},
   "outputs": [
    {
     "data": {
      "text/html": [
       "<div>\n",
       "<style scoped>\n",
       "    .dataframe tbody tr th:only-of-type {\n",
       "        vertical-align: middle;\n",
       "    }\n",
       "\n",
       "    .dataframe tbody tr th {\n",
       "        vertical-align: top;\n",
       "    }\n",
       "\n",
       "    .dataframe thead th {\n",
       "        text-align: right;\n",
       "    }\n",
       "</style>\n",
       "<table border=\"1\" class=\"dataframe\">\n",
       "  <thead>\n",
       "    <tr style=\"text-align: right;\">\n",
       "      <th></th>\n",
       "      <th>Bureau of Meteorology station number</th>\n",
       "      <th>Year</th>\n",
       "      <th>Month</th>\n",
       "      <th>Day</th>\n",
       "      <th>Maximum temperature (Degree C)</th>\n",
       "      <th>Minimum temperature (Degree C)</th>\n",
       "      <th>Rainfall amount (millimetres)</th>\n",
       "    </tr>\n",
       "  </thead>\n",
       "  <tbody>\n",
       "    <tr>\n",
       "      <th>39808</th>\n",
       "      <td>72161</td>\n",
       "      <td>2025</td>\n",
       "      <td>7</td>\n",
       "      <td>24</td>\n",
       "      <td>3.0</td>\n",
       "      <td>-2.7</td>\n",
       "      <td>4.2</td>\n",
       "    </tr>\n",
       "    <tr>\n",
       "      <th>39809</th>\n",
       "      <td>72161</td>\n",
       "      <td>2025</td>\n",
       "      <td>7</td>\n",
       "      <td>25</td>\n",
       "      <td>6.0</td>\n",
       "      <td>-2.4</td>\n",
       "      <td>0.2</td>\n",
       "    </tr>\n",
       "    <tr>\n",
       "      <th>39810</th>\n",
       "      <td>72161</td>\n",
       "      <td>2025</td>\n",
       "      <td>7</td>\n",
       "      <td>26</td>\n",
       "      <td>2.7</td>\n",
       "      <td>0.0</td>\n",
       "      <td>10.2</td>\n",
       "    </tr>\n",
       "    <tr>\n",
       "      <th>39811</th>\n",
       "      <td>72161</td>\n",
       "      <td>2025</td>\n",
       "      <td>7</td>\n",
       "      <td>27</td>\n",
       "      <td>2.5</td>\n",
       "      <td>1.3</td>\n",
       "      <td>15.6</td>\n",
       "    </tr>\n",
       "    <tr>\n",
       "      <th>39812</th>\n",
       "      <td>72161</td>\n",
       "      <td>2025</td>\n",
       "      <td>7</td>\n",
       "      <td>28</td>\n",
       "      <td>2.2</td>\n",
       "      <td>-0.1</td>\n",
       "      <td>54.4</td>\n",
       "    </tr>\n",
       "  </tbody>\n",
       "</table>\n",
       "</div>"
      ],
      "text/plain": [
       "       Bureau of Meteorology station number  Year  Month  Day  \\\n",
       "39808                                 72161  2025      7   24   \n",
       "39809                                 72161  2025      7   25   \n",
       "39810                                 72161  2025      7   26   \n",
       "39811                                 72161  2025      7   27   \n",
       "39812                                 72161  2025      7   28   \n",
       "\n",
       "       Maximum temperature (Degree C)  Minimum temperature (Degree C)  \\\n",
       "39808                             3.0                            -2.7   \n",
       "39809                             6.0                            -2.4   \n",
       "39810                             2.7                             0.0   \n",
       "39811                             2.5                             1.3   \n",
       "39812                             2.2                            -0.1   \n",
       "\n",
       "       Rainfall amount (millimetres)  \n",
       "39808                            4.2  \n",
       "39809                            0.2  \n",
       "39810                           10.2  \n",
       "39811                           15.6  \n",
       "39812                           54.4  "
      ]
     },
     "execution_count": 60,
     "metadata": {},
     "output_type": "execute_result"
    }
   ],
   "source": [
    "# Check unclean data\n",
    "climate_data.tail()"
   ]
  },
  {
   "cell_type": "code",
   "execution_count": 98,
   "id": "df204b52",
   "metadata": {},
   "outputs": [
    {
     "name": "stdout",
     "output_type": "stream",
     "text": [
      "<class 'pandas.core.frame.DataFrame'>\n",
      "RangeIndex: 39813 entries, 0 to 39812\n",
      "Data columns (total 7 columns):\n",
      " #   Column       Non-Null Count  Dtype  \n",
      "---  ------       --------------  -----  \n",
      " 0   station_id   39813 non-null  object \n",
      " 1   year         39813 non-null  object \n",
      " 2   month        39813 non-null  int64  \n",
      " 3   day          39813 non-null  int64  \n",
      " 4   max_temp_c   38275 non-null  float64\n",
      " 5   min_temp_c   38280 non-null  float64\n",
      " 6   rainfall_mm  37857 non-null  float64\n",
      "dtypes: float64(3), int64(2), object(2)\n",
      "memory usage: 2.1+ MB\n",
      "None\n"
     ]
    },
    {
     "data": {
      "text/html": [
       "<div>\n",
       "<style scoped>\n",
       "    .dataframe tbody tr th:only-of-type {\n",
       "        vertical-align: middle;\n",
       "    }\n",
       "\n",
       "    .dataframe tbody tr th {\n",
       "        vertical-align: top;\n",
       "    }\n",
       "\n",
       "    .dataframe thead th {\n",
       "        text-align: right;\n",
       "    }\n",
       "</style>\n",
       "<table border=\"1\" class=\"dataframe\">\n",
       "  <thead>\n",
       "    <tr style=\"text-align: right;\">\n",
       "      <th></th>\n",
       "      <th>station_id</th>\n",
       "      <th>year</th>\n",
       "      <th>month</th>\n",
       "      <th>day</th>\n",
       "      <th>max_temp_c</th>\n",
       "      <th>min_temp_c</th>\n",
       "      <th>rainfall_mm</th>\n",
       "    </tr>\n",
       "  </thead>\n",
       "  <tbody>\n",
       "    <tr>\n",
       "      <th>39808</th>\n",
       "      <td>72161</td>\n",
       "      <td>2025</td>\n",
       "      <td>7</td>\n",
       "      <td>24</td>\n",
       "      <td>3.0</td>\n",
       "      <td>-2.7</td>\n",
       "      <td>4.2</td>\n",
       "    </tr>\n",
       "    <tr>\n",
       "      <th>39809</th>\n",
       "      <td>72161</td>\n",
       "      <td>2025</td>\n",
       "      <td>7</td>\n",
       "      <td>25</td>\n",
       "      <td>6.0</td>\n",
       "      <td>-2.4</td>\n",
       "      <td>0.2</td>\n",
       "    </tr>\n",
       "    <tr>\n",
       "      <th>39810</th>\n",
       "      <td>72161</td>\n",
       "      <td>2025</td>\n",
       "      <td>7</td>\n",
       "      <td>26</td>\n",
       "      <td>2.7</td>\n",
       "      <td>0.0</td>\n",
       "      <td>10.2</td>\n",
       "    </tr>\n",
       "    <tr>\n",
       "      <th>39811</th>\n",
       "      <td>72161</td>\n",
       "      <td>2025</td>\n",
       "      <td>7</td>\n",
       "      <td>27</td>\n",
       "      <td>2.5</td>\n",
       "      <td>1.3</td>\n",
       "      <td>15.6</td>\n",
       "    </tr>\n",
       "    <tr>\n",
       "      <th>39812</th>\n",
       "      <td>72161</td>\n",
       "      <td>2025</td>\n",
       "      <td>7</td>\n",
       "      <td>28</td>\n",
       "      <td>2.2</td>\n",
       "      <td>-0.1</td>\n",
       "      <td>54.4</td>\n",
       "    </tr>\n",
       "  </tbody>\n",
       "</table>\n",
       "</div>"
      ],
      "text/plain": [
       "      station_id  year  month  day  max_temp_c  min_temp_c  rainfall_mm\n",
       "39808      72161  2025      7   24         3.0        -2.7          4.2\n",
       "39809      72161  2025      7   25         6.0        -2.4          0.2\n",
       "39810      72161  2025      7   26         2.7         0.0         10.2\n",
       "39811      72161  2025      7   27         2.5         1.3         15.6\n",
       "39812      72161  2025      7   28         2.2        -0.1         54.4"
      ]
     },
     "execution_count": 98,
     "metadata": {},
     "output_type": "execute_result"
    }
   ],
   "source": [
    "# Renaming columns using dictionary\n",
    "cd_col_names = [col.lower() for col in climate_data.columns]\n",
    "cd_col_names[0] = \"station_id\"\n",
    "cd_col_names[-3:] = [\"max_temp_c\", \"min_temp_c\", \"rainfall_mm\"]\n",
    "cd_col_names = {col_old: col_new for col_old, col_new in zip(climate_data.columns, cd_col_names)}\n",
    "climate_data_clean = climate_data.copy().rename(columns=cd_col_names)\n",
    "\n",
    "# Type formatting\n",
    "climate_data_clean = climate_data_clean.astype({\"station_id\": str, \"year\": str})\n",
    "\n",
    "# Check datatype\n",
    "print(climate_data_clean.info())\n",
    "\n",
    "# Check records\n",
    "climate_data_clean.tail()"
   ]
  },
  {
   "cell_type": "markdown",
   "id": "b33999b2",
   "metadata": {},
   "source": [
    "### Parsing the visitation data"
   ]
  },
  {
   "cell_type": "code",
   "execution_count": 93,
   "id": "f2726518",
   "metadata": {},
   "outputs": [
    {
     "data": {
      "text/html": [
       "<div>\n",
       "<style scoped>\n",
       "    .dataframe tbody tr th:only-of-type {\n",
       "        vertical-align: middle;\n",
       "    }\n",
       "\n",
       "    .dataframe tbody tr th {\n",
       "        vertical-align: top;\n",
       "    }\n",
       "\n",
       "    .dataframe thead th {\n",
       "        text-align: right;\n",
       "    }\n",
       "</style>\n",
       "<table border=\"1\" class=\"dataframe\">\n",
       "  <thead>\n",
       "    <tr style=\"text-align: right;\">\n",
       "      <th></th>\n",
       "      <th>year</th>\n",
       "      <th>week</th>\n",
       "      <th>location</th>\n",
       "      <th>visitors</th>\n",
       "    </tr>\n",
       "  </thead>\n",
       "  <tbody>\n",
       "    <tr>\n",
       "      <th>0</th>\n",
       "      <td>2014</td>\n",
       "      <td>1</td>\n",
       "      <td>Mt. Baw Baw</td>\n",
       "      <td>555</td>\n",
       "    </tr>\n",
       "    <tr>\n",
       "      <th>1</th>\n",
       "      <td>2014</td>\n",
       "      <td>2</td>\n",
       "      <td>Mt. Baw Baw</td>\n",
       "      <td>804</td>\n",
       "    </tr>\n",
       "    <tr>\n",
       "      <th>2</th>\n",
       "      <td>2014</td>\n",
       "      <td>3</td>\n",
       "      <td>Mt. Baw Baw</td>\n",
       "      <td>993</td>\n",
       "    </tr>\n",
       "    <tr>\n",
       "      <th>3</th>\n",
       "      <td>2014</td>\n",
       "      <td>4</td>\n",
       "      <td>Mt. Baw Baw</td>\n",
       "      <td>2976</td>\n",
       "    </tr>\n",
       "    <tr>\n",
       "      <th>4</th>\n",
       "      <td>2014</td>\n",
       "      <td>5</td>\n",
       "      <td>Mt. Baw Baw</td>\n",
       "      <td>11112</td>\n",
       "    </tr>\n",
       "  </tbody>\n",
       "</table>\n",
       "</div>"
      ],
      "text/plain": [
       "   year week     location  visitors\n",
       "0  2014    1  Mt. Baw Baw       555\n",
       "1  2014    2  Mt. Baw Baw       804\n",
       "2  2014    3  Mt. Baw Baw       993\n",
       "3  2014    4  Mt. Baw Baw      2976\n",
       "4  2014    5  Mt. Baw Baw     11112"
      ]
     },
     "execution_count": 93,
     "metadata": {},
     "output_type": "execute_result"
    }
   ],
   "source": [
    "# Converting to long format for easier processing\n",
    "visitation_data_long = (visitation_data.copy()\n",
    "                        .melt(id_vars=(\"Year\", \"Week\"), var_name=\"location\", value_name=\"visitors\")\n",
    "                        .rename(columns={\"Year\" : \"year\", \"Week\" : \"week\"}))\n",
    "visitation_data_long = visitation_data_long.astype({\"year\": str, \"week\": str})\n",
    "visitation_data_long.head()"
   ]
  },
  {
   "cell_type": "code",
   "execution_count": 94,
   "id": "e3e85ea6",
   "metadata": {},
   "outputs": [
    {
     "name": "stdout",
     "output_type": "stream",
     "text": [
      "<class 'pandas.core.frame.DataFrame'>\n",
      "RangeIndex: 1485 entries, 0 to 1484\n",
      "Data columns (total 4 columns):\n",
      " #   Column    Non-Null Count  Dtype \n",
      "---  ------    --------------  ----- \n",
      " 0   year      1485 non-null   object\n",
      " 1   week      1485 non-null   object\n",
      " 2   location  1485 non-null   object\n",
      " 3   visitors  1485 non-null   int64 \n",
      "dtypes: int64(1), object(3)\n",
      "memory usage: 46.5+ KB\n"
     ]
    }
   ],
   "source": [
    "visitation_data_long.info()"
   ]
  },
  {
   "cell_type": "markdown",
   "id": "85a0300b",
   "metadata": {},
   "source": [
    "## Exporting the data"
   ]
  },
  {
   "cell_type": "code",
   "execution_count": 69,
   "id": "84af0230",
   "metadata": {},
   "outputs": [],
   "source": [
    "location_id.to_csv(data_fp.parent / \"location_id.csv\", index=False)\n",
    "location_id.to_parquet(data_fp.parent / \"location_id.parquet\", engine=\"fastparquet\")"
   ]
  },
  {
   "cell_type": "code",
   "execution_count": 70,
   "id": "171cb5eb",
   "metadata": {},
   "outputs": [],
   "source": [
    "ski_season_dates.to_csv(data_fp.parent / \"ski_season_dates.csv\", index=False)\n",
    "ski_season_dates.to_parquet(data_fp.parent / \"ski_season_dates.parquet\", engine=\"fastparquet\")"
   ]
  },
  {
   "cell_type": "code",
   "execution_count": 71,
   "id": "26284985",
   "metadata": {},
   "outputs": [],
   "source": [
    "climate_data_clean.to_csv(data_fp.parent / \"climate_data.csv\", index=False)\n",
    "climate_data_clean.to_parquet(data_fp.parent / \"climate_data.parquet\", engine=\"fastparquet\")"
   ]
  },
  {
   "cell_type": "code",
   "execution_count": null,
   "id": "29ea8572",
   "metadata": {},
   "outputs": [],
   "source": [
    "visitation_data.to_csv(data_fp.parent / \"visitation_data_raw.csv\", index=False)\n",
    "visitation_data_long.to_csv"
   ]
  }
 ],
 "metadata": {
  "kernelspec": {
   "display_name": ".venv",
   "language": "python",
   "name": "python3"
  },
  "language_info": {
   "codemirror_mode": {
    "name": "ipython",
    "version": 3
   },
   "file_extension": ".py",
   "mimetype": "text/x-python",
   "name": "python",
   "nbconvert_exporter": "python",
   "pygments_lexer": "ipython3",
   "version": "3.12.0"
  }
 },
 "nbformat": 4,
 "nbformat_minor": 5
}
